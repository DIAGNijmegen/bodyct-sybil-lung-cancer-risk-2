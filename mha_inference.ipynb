{
 "cells": [
  {
   "cell_type": "code",
   "execution_count": 1,
   "metadata": {},
   "outputs": [
    {
     "data": {
      "text/plain": [
       "'\\ndef break_mha_into_slices(input_mha_file):\\n    pass\\n    sitk_image = sitk.ReadImage(input_mha_file)\\n    print(sitk_image)\\n    ct_slices = sitk.GetArrayFromImage(sitk_image)\\n    print(np.shape(ct_slices))\\n    spacing = sitk_image.GetSpacing()\\n    seriesuid, _ = os.path.splitext(os.path.basename(input_mha_file))\\n    slices = []\\n    # if not os.path.exists(output_folder):\\n    #     os.makedirs(output_folder)\\n\\n    for i, slice_data in enumerate(ct_slices):\\n        slice_image = sitk.GetImageFromArray(slice_data)\\n        slice_image.SetOrigin(sitk_image.GetOrigin())\\n        slice_image.SetMetaData(\"SeriesUID\", seriesuid)\\n\\n        x_coordinate = slice_image.GetOrigin()[0]\\n        y_coordinate = slice_image.GetOrigin()[1]\\n\\n        slice_image.SetMetaData(\"ImagePositionPatient\", f\"{x_coordinate} {y_coordinate}\")\\n        \\n        if isinstance(spacing, tuple) and len(spacing) >= 3:\\n            slice_thickness = spacing[2]\\n        else:\\n            slice_thickness = None\\n        slice_image.SetMetaData(\"SliceThickness\", str(slice_thickness))\\n        pixel_spacing_str = \" \".join(map(str, spacing))\\n        slice_image.SetMetaData(\"PixelSpacing\", pixel_spacing_str)\\n        slices.append(slice_image)\\n\\n    return slices\\n'"
      ]
     },
     "execution_count": 1,
     "metadata": {},
     "output_type": "execute_result"
    }
   ],
   "source": [
    "\"\"\"\n",
    "def break_mha_into_slices(input_mha_file):\n",
    "    pass\n",
    "    sitk_image = sitk.ReadImage(input_mha_file)\n",
    "    print(sitk_image)\n",
    "    ct_slices = sitk.GetArrayFromImage(sitk_image)\n",
    "    print(np.shape(ct_slices))\n",
    "    spacing = sitk_image.GetSpacing()\n",
    "    seriesuid, _ = os.path.splitext(os.path.basename(input_mha_file))\n",
    "    slices = []\n",
    "    # if not os.path.exists(output_folder):\n",
    "    #     os.makedirs(output_folder)\n",
    "\n",
    "    for i, slice_data in enumerate(ct_slices):\n",
    "        slice_image = sitk.GetImageFromArray(slice_data)\n",
    "        slice_image.SetOrigin(sitk_image.GetOrigin())\n",
    "        slice_image.SetMetaData(\"SeriesUID\", seriesuid)\n",
    "\n",
    "        x_coordinate = slice_image.GetOrigin()[0]\n",
    "        y_coordinate = slice_image.GetOrigin()[1]\n",
    "\n",
    "        slice_image.SetMetaData(\"ImagePositionPatient\", f\"{x_coordinate} {y_coordinate}\")\n",
    "        \n",
    "        if isinstance(spacing, tuple) and len(spacing) >= 3:\n",
    "            slice_thickness = spacing[2]\n",
    "        else:\n",
    "            slice_thickness = None\n",
    "        slice_image.SetMetaData(\"SliceThickness\", str(slice_thickness))\n",
    "        pixel_spacing_str = \" \".join(map(str, spacing))\n",
    "        slice_image.SetMetaData(\"PixelSpacing\", pixel_spacing_str)\n",
    "        slices.append(slice_image)\n",
    "\n",
    "    return slices\n",
    "\"\"\"\n",
    "        # slice_filename = os.path.join(output_folder, f\"slice_{i:04d}.mha\")\n",
    "        # sitk.WriteImage(slice_image, slice_filename)"
   ]
  },
  {
   "cell_type": "code",
   "execution_count": 2,
   "metadata": {},
   "outputs": [],
   "source": [
    "import os\n",
    "from sybil import Serie, Sybil\n",
    "import time\n",
    "import csv\n",
    "import traceback\n",
    "import pandas as pd\n",
    "import argparse\n",
    "import numpy as np\n",
    "from tqdm import tqdm"
   ]
  },
  {
   "cell_type": "code",
   "execution_count": 3,
   "metadata": {},
   "outputs": [],
   "source": [
    "\"\"\"\n",
    "This script is used to run inference on a set of .mha files and save the results to a csv file.\n",
    "\"\"\"\n",
    "\n",
    "\n",
    "def get_subfolder_paths(parent_folder):\n",
    "    \"\"\"Return a list of all subfolder paths in a parent folder.\n",
    "    Parameters:\n",
    "    parent_folder (str): The path to the parent folder.\n",
    "    Returns:s\n",
    "    List[str]: A list of paths for all subfolders in the parent folder.\n",
    "    \"\"\"\n",
    "    subfolder_names = os.listdir(parent_folder)\n",
    "    subfolder_paths = [os.path.join(parent_folder, name) for name in subfolder_names if os.path.isdir(os.path.join(parent_folder, name))]\n",
    "    return subfolder_paths\n",
    "\n",
    "def get_subfolder_paths_from_csv(csv_file_path,path_to_mha):\n",
    "    \"\"\"Return a list of all subfolder paths extracted from a CSV file.\n",
    "    \n",
    "    Parameters:\n",
    "    csv_file_path (str): The path to the CSV file.\n",
    "    \n",
    "    Returns:\n",
    "    List[str]: A list of paths for all subfolders extracted from the CSV file.\n",
    "    \"\"\"\n",
    "    # Read the CSV file into a DataFrame\n",
    "    df = pd.read_csv(csv_file_path)\n",
    "    series_instance_ids = df['SeriesInstanceUID']+\".mha\"\n",
    "    subfolder_paths = [os.path.join(path_to_mha, str(series_instance_id)) for series_instance_id in series_instance_ids]\n",
    "    return subfolder_paths\n",
    "\n",
    "def get_mha_filepaths(folder_path):\n",
    "    \"\"\"Parse through a folder of .mha files of CT slices and return a list of all file paths.\n",
    "    Parameters:\n",
    "    folder_path (str): The path to the folder containing the .mha files.\n",
    "    Returns:\n",
    "    List[str]: A list of file paths for all .mha files in the folder.\n",
    "    \"\"\"\n",
    "    mha_filepaths = []\n",
    "    for root, _, files in os.walk(folder_path):\n",
    "        for file in sorted(files):  # Sort the files list\n",
    "            if file.endswith(\".mha\") or file.endswith(\".dcm\"):\n",
    "                mha_filepaths.append(os.path.join(root, file))\n",
    "    return mha_filepaths\n",
    "\n",
    "\n",
    "# Initialize an empty dictionary\n",
    "data_dict = {}\n",
    "\n",
    "def collectscores(seriesuid, scores):\n",
    "    global data_dict\n",
    "\n",
    "    keys = ['SeriesInstanceUID', 'year1', 'year2', 'year3', 'year4', 'year5', 'year6']\n",
    "    values = [\n",
    "        os.path.basename(seriesuid),\n",
    "        scores[0][0],\n",
    "        scores[0][1],\n",
    "        scores[0][2],\n",
    "        scores[0][3],\n",
    "        scores[0][4],\n",
    "        scores[0][5]\n",
    "    ]\n",
    "    # Use the seriesuid as the key for this entry in the data_dict\n",
    "    entry_key = os.path.basename(seriesuid)\n",
    "    data_dict[entry_key] = dict(zip(keys, values))\n",
    "\n",
    "    return data_dict\n",
    "\n",
    "def save_data_as_csv(data_dict, output_filename):\n",
    "\n",
    "    with open(output_filename, \"w\", newline='') as csvfile:\n",
    "        pass\n",
    "\n",
    "    with open(output_filename, \"w\", newline='') as csvfile:\n",
    "        writer = csv.DictWriter(csvfile, fieldnames=headers)\n",
    "\n",
    "        writer.writeheader()\n",
    "\n",
    "        for series_key, series_value in data_dict.items():\n",
    "            writer.writerow(series_value)\n",
    "\n",
    "# def log_error(error_message, subfolder):\n",
    "#     with open(log_file, \"a\") as log:\n",
    "#         log.write(\"Error in subfolder '{}': {}\\n\".format(subfolder, error_message))\n",
    "#         traceback.print_exc(file=log)\n",
    "\n",
    "headers = [\"SeriesInstanceUID\", \"year1\", \"year2\", \"year3\", \"year4\", \"year5\", \"year6\"]\n",
    "output = r\"/data/bodyct/experiments/kristina_sybil/files/mha3d_cancer_enriched_windowing64_allagain.csv\"\n",
    "csvfile = r\"/data/bodyct/experiments/kristina_sybil/temp/temp_output_files_sybil/fennie/combinedsybilkiran_all.csv\"\n",
    "path_to_mha = r\"/data/bodyct/experiments/0-dlcst-mha\""
   ]
  },
  {
   "cell_type": "code",
   "execution_count": 4,
   "metadata": {},
   "outputs": [
    {
     "name": "stdout",
     "output_type": "stream",
     "text": [
      "loading\n",
      "Loaded model from /home/kristinaavramova/.sybil/28a7cd44f5bcd3e6cc760b65c7e0d54d.ckpt\n",
      "Loaded model from /home/kristinaavramova/.sybil/56ce1a7d241dc342982f5466c4a9d7ef.ckpt\n",
      "Loaded model from /home/kristinaavramova/.sybil/624407ef8e3a2a009f9fa51f9846fe9a.ckpt\n",
      "Loaded model from /home/kristinaavramova/.sybil/64a91b25f84141d32852e75a3aec7305.ckpt\n",
      "Loaded model from /home/kristinaavramova/.sybil/65fd1f04cb4c5847d86a9ed8ba31ac1a.ckpt\n"
     ]
    }
   ],
   "source": [
    "# Load a trained model\n",
    "# path = r\"/data/bodyct/experiments/kristina_sybil/temp/test_data/mha/indeterminate/1.2.840.113704.1.111.6252.1187022321.14.mha\"\n",
    "print(\"loading\")\n",
    "model = Sybil(\"sybil_ensemble\")\n",
    "# 1.2.840.113704.1.111.340.1158160809.11.mha\n",
    "# \"W:\\experiments\\kristina_sybil\\temp\\test_data\\mha\\indeterminate\\1.2.840.113704.1.111.340.1158160809.11.mha\""
   ]
  },
  {
   "cell_type": "code",
   "execution_count": 5,
   "metadata": {},
   "outputs": [
    {
     "name": "stdout",
     "output_type": "stream",
     "text": [
      "['/data/bodyct/experiments/0-dlcst-mha/1.2.840.113704.1.111.6164.1116343417.11.mha', '/data/bodyct/experiments/0-dlcst-mha/1.2.840.113704.1.111.6184.1133193556.11.mha', '/data/bodyct/experiments/0-dlcst-mha/1.2.840.113704.1.111.6188.1109691842.10.mha', '/data/bodyct/experiments/0-dlcst-mha/1.2.840.113704.1.111.6216.1133886506.11.mha', '/data/bodyct/experiments/0-dlcst-mha/1.2.840.113704.1.111.6220.1125590447.11.mha', '/data/bodyct/experiments/0-dlcst-mha/1.2.840.113704.1.111.6252.1187022321.14.mha', '/data/bodyct/experiments/0-dlcst-mha/1.2.840.113704.1.111.6260.1102521829.10.mha', '/data/bodyct/experiments/0-dlcst-mha/1.2.840.113704.1.111.628.1102346195.10.mha', '/data/bodyct/experiments/0-dlcst-mha/1.2.840.113704.1.111.6288.1110382975.10.mha', '/data/bodyct/experiments/0-dlcst-mha/1.2.840.113704.1.111.6304.1130429073.11.mha', '/data/bodyct/experiments/0-dlcst-mha/1.2.840.113704.1.111.6324.1199807849.11.mha', '/data/bodyct/experiments/0-dlcst-mha/1.2.840.113704.1.111.6352.1119363877.10.mha', '/data/bodyct/experiments/0-dlcst-mha/1.2.840.113704.1.111.6356.1129646669.11.mha', '/data/bodyct/experiments/0-dlcst-mha/1.2.840.113704.1.111.6368.1139935191.14.mha', '/data/bodyct/experiments/0-dlcst-mha/1.2.840.113704.1.111.6436.1112711704.11.mha', '/data/bodyct/experiments/0-dlcst-mha/1.2.840.113704.1.111.6448.1133883518.11.mha', '/data/bodyct/experiments/0-dlcst-mha/1.2.840.113704.1.111.6452.1127316599.11.mha', '/data/bodyct/experiments/0-dlcst-mha/1.2.840.113704.1.111.6480.1107269517.10.mha', '/data/bodyct/experiments/0-dlcst-mha/1.2.840.113704.1.111.6512.1124208579.11.mha', '/data/bodyct/experiments/0-dlcst-mha/1.2.840.113704.1.111.6528.1102610040.10.mha', '/data/bodyct/experiments/0-dlcst-mha/1.2.840.113704.1.111.6528.1190038334.11.mha', '/data/bodyct/experiments/0-dlcst-mha/1.2.840.113704.1.111.6540.1109085436.10.mha', '/data/bodyct/experiments/0-dlcst-mha/1.2.840.113704.1.111.656.1101914972.10.mha', '/data/bodyct/experiments/0-dlcst-mha/1.2.840.113704.1.111.6560.1119370910.10.mha', '/data/bodyct/experiments/0-dlcst-mha/1.2.840.113704.1.111.6564.1133362555.11.mha', '/data/bodyct/experiments/0-dlcst-mha/1.2.840.113704.1.111.6568.1102606401.10.mha', '/data/bodyct/experiments/0-dlcst-mha/1.2.840.113704.1.111.6580.1105023411.10.mha', '/data/bodyct/experiments/0-dlcst-mha/1.2.840.113704.1.111.664.1129645028.11.mha', '/data/bodyct/experiments/0-dlcst-mha/1.2.840.113704.1.111.6648.1145543434.11.mha', '/data/bodyct/experiments/0-dlcst-mha/1.2.840.113704.1.111.6660.1102611764.10.mha', '/data/bodyct/experiments/0-dlcst-mha/1.2.840.113704.1.111.6664.1112712281.11.mha', '/data/bodyct/experiments/0-dlcst-mha/1.2.840.113704.1.111.6668.1118763331.11.mha', '/data/bodyct/experiments/0-dlcst-mha/1.2.840.113704.1.111.6676.1127313872.11.mha', '/data/bodyct/experiments/0-dlcst-mha/1.2.840.113704.1.111.6680.1102607970.10.mha', '/data/bodyct/experiments/0-dlcst-mha/1.2.840.113704.1.111.6712.1220975215.11.mha', '/data/bodyct/experiments/0-dlcst-mha/1.2.840.113704.1.111.6720.1119369910.10.mha', '/data/bodyct/experiments/0-dlcst-mha/1.2.840.113704.1.111.6748.1101745674.10.mha', '/data/bodyct/experiments/0-dlcst-mha/1.2.840.113704.1.111.6748.1105541306.10.mha', '/data/bodyct/experiments/0-dlcst-mha/1.2.840.113704.1.111.6748.1161616051.11.mha', '/data/bodyct/experiments/0-dlcst-mha/1.2.840.113704.1.111.6752.1117723536.11.mha', '/data/bodyct/experiments/0-dlcst-mha/1.2.840.113704.1.111.6760.1102518891.10.mha', '/data/bodyct/experiments/0-dlcst-mha/1.2.840.113704.1.111.6768.1101224564.10.mha', '/data/bodyct/experiments/0-dlcst-mha/1.2.840.113704.1.111.6788.1124206919.11.mha', '/data/bodyct/experiments/0-dlcst-mha/1.2.840.113704.1.111.6800.1107190642.10.mha', '/data/bodyct/experiments/0-dlcst-mha/1.2.840.113704.1.111.6804.1105974723.10.mha', '/data/bodyct/experiments/0-dlcst-mha/1.2.840.113704.1.111.6812.1100616815.10.mha', '/data/bodyct/experiments/0-dlcst-mha/1.2.840.113704.1.111.6820.1115908906.11.mha', '/data/bodyct/experiments/0-dlcst-mha/1.2.840.113704.1.111.6836.1108485207.10.mha', '/data/bodyct/experiments/0-dlcst-mha/1.2.840.113704.1.111.6888.1127833732.11.mha', '/data/bodyct/experiments/0-dlcst-mha/1.2.840.113704.1.111.6900.1141744183.11.mha', '/data/bodyct/experiments/0-dlcst-mha/1.2.840.113704.1.111.6916.1132758348.11.mha', '/data/bodyct/experiments/0-dlcst-mha/1.2.840.113704.1.111.6932.1104855427.10.mha', '/data/bodyct/experiments/0-dlcst-mha/1.2.840.113704.1.111.6948.1100619476.10.mha', '/data/bodyct/experiments/0-dlcst-mha/1.2.840.113704.1.111.6952.1108480289.10.mha', '/data/bodyct/experiments/0-dlcst-mha/1.2.840.113704.1.111.696.1132592510.11.mha', '/data/bodyct/experiments/0-dlcst-mha/1.2.840.113704.1.111.6972.1100617540.10.mha', '/data/bodyct/experiments/0-dlcst-mha/1.2.840.113704.1.111.6980.1127318779.11.mha', '/data/bodyct/experiments/0-dlcst-mha/1.2.840.113704.1.111.7000.1102522692.10.mha', '/data/bodyct/experiments/0-dlcst-mha/1.2.840.113704.1.111.7008.1108482204.10.mha', '/data/bodyct/experiments/0-dlcst-mha/1.2.840.113704.1.111.7016.1100795596.10.mha', '/data/bodyct/experiments/0-dlcst-mha/1.2.840.113704.1.111.7020.1113489314.11.mha', '/data/bodyct/experiments/0-dlcst-mha/1.2.840.113704.1.111.7032.1117549349.10.mha', '/data/bodyct/experiments/0-dlcst-mha/1.2.840.113704.1.111.7040.1114530475.11.mha', '/data/bodyct/experiments/0-dlcst-mha/1.2.840.113704.1.111.7048.1105973735.10.mha', '/data/bodyct/experiments/0-dlcst-mha/1.2.840.113704.1.111.7060.1138635477.11.mha', '/data/bodyct/experiments/0-dlcst-mha/1.2.840.113704.1.111.7076.1124294463.11.mha', '/data/bodyct/experiments/0-dlcst-mha/1.2.840.113704.1.111.708.1101913916.10.mha', '/data/bodyct/experiments/0-dlcst-mha/1.2.840.113704.1.111.7084.1100794609.10.mha', '/data/bodyct/experiments/0-dlcst-mha/1.2.840.113704.1.111.7104.1141743744.11.mha', '/data/bodyct/experiments/0-dlcst-mha/1.2.840.113704.1.111.7108.1260983067.11.mha', '/data/bodyct/experiments/0-dlcst-mha/1.2.840.113704.1.111.7116.1133192235.11.mha', '/data/bodyct/experiments/0-dlcst-mha/1.2.840.113704.1.111.7136.1126705834.10.mha', '/data/bodyct/experiments/0-dlcst-mha/1.2.840.113704.1.111.7156.1117723942.11.mha', '/data/bodyct/experiments/0-dlcst-mha/1.2.840.113704.1.111.7164.1130164864.11.mha', '/data/bodyct/experiments/0-dlcst-mha/1.2.840.113704.1.111.7164.1141229754.11.mha', '/data/bodyct/experiments/0-dlcst-mha/1.2.840.113704.1.111.7172.1111077111.10.mha', '/data/bodyct/experiments/0-dlcst-mha/1.2.840.113704.1.111.7256.1109868278.10.mha', '/data/bodyct/experiments/0-dlcst-mha/1.2.840.113704.1.111.7292.1124894344.11.mha', '/data/bodyct/experiments/0-dlcst-mha/1.2.840.113704.1.111.7312.1114698589.11.mha', '/data/bodyct/experiments/0-dlcst-mha/1.2.840.113704.1.111.7340.1149691718.11.mha', '/data/bodyct/experiments/0-dlcst-mha/1.2.840.113704.1.111.7388.1107271327.10.mha', '/data/bodyct/experiments/0-dlcst-mha/1.2.840.113704.1.111.7388.1141058861.14.mha', '/data/bodyct/experiments/0-dlcst-mha/1.2.840.113704.1.111.7400.1128008924.11.mha', '/data/bodyct/experiments/0-dlcst-mha/1.2.840.113704.1.111.7408.1105977543.10.mha', '/data/bodyct/experiments/0-dlcst-mha/1.2.840.113704.1.111.7420.1115044677.15.mha', '/data/bodyct/experiments/0-dlcst-mha/1.2.840.113704.1.111.7496.1127916081.11.mha', '/data/bodyct/experiments/0-dlcst-mha/1.2.840.113704.1.111.7516.1130945258.11.mha', '/data/bodyct/experiments/0-dlcst-mha/1.2.840.113704.1.111.752.1133366400.11.mha', '/data/bodyct/experiments/0-dlcst-mha/1.2.840.113704.1.111.7580.1107356529.10.mha', '/data/bodyct/experiments/0-dlcst-mha/1.2.840.113704.1.111.7584.1106152095.10.mha', '/data/bodyct/experiments/0-dlcst-mha/1.2.840.113704.1.111.7588.1129043677.11.mha', '/data/bodyct/experiments/0-dlcst-mha/1.2.840.113704.1.111.7612.1118331132.11.mha', '/data/bodyct/experiments/0-dlcst-mha/1.2.840.113704.1.111.7624.1117725959.11.mha', '/data/bodyct/experiments/0-dlcst-mha/1.2.840.113704.1.111.7632.1133198447.14.mha', '/data/bodyct/experiments/0-dlcst-mha/1.2.840.113704.1.111.7680.1101222992.10.mha', '/data/bodyct/experiments/0-dlcst-mha/1.2.840.113704.1.111.7684.1108486167.10.mha', '/data/bodyct/experiments/0-dlcst-mha/1.2.840.113704.1.111.7692.1124295016.10.mha', '/data/bodyct/experiments/0-dlcst-mha/1.2.840.113704.1.111.7692.1141059901.14.mha', '/data/bodyct/experiments/0-dlcst-mha/1.2.840.113704.1.111.7736.1115042656.10.mha', '/data/bodyct/experiments/0-dlcst-mha/1.2.840.113704.1.111.7796.1114528837.11.mha', '/data/bodyct/experiments/0-dlcst-mha/1.2.840.113704.1.111.780.1116951922.11.mha', '/data/bodyct/experiments/0-dlcst-mha/1.2.840.113704.1.111.7808.1132850740.10.mha', '/data/bodyct/experiments/0-dlcst-mha/1.2.840.113704.1.111.7824.1115129947.10.mha', '/data/bodyct/experiments/0-dlcst-mha/1.2.840.113704.1.111.7844.1133885958.11.mha', '/data/bodyct/experiments/0-dlcst-mha/1.2.840.113704.1.111.7852.1101835353.11.mha', '/data/bodyct/experiments/0-dlcst-mha/1.2.840.113704.1.111.7852.1125591747.11.mha', '/data/bodyct/experiments/0-dlcst-mha/1.2.840.113704.1.111.7864.1118330185.11.mha', '/data/bodyct/experiments/0-dlcst-mha/1.2.840.113704.1.111.7872.1125928710.11.mha', '/data/bodyct/experiments/0-dlcst-mha/1.2.840.113704.1.111.7876.1115913623.11.mha', '/data/bodyct/experiments/0-dlcst-mha/1.2.840.113704.1.111.7880.1111076105.10.mha', '/data/bodyct/experiments/0-dlcst-mha/1.2.840.113704.1.111.7904.1105541970.10.mha', '/data/bodyct/experiments/0-dlcst-mha/1.2.840.113704.1.111.7904.1107358133.10.mha', '/data/bodyct/experiments/0-dlcst-mha/1.2.840.113704.1.111.7924.1107273122.10.mha', '/data/bodyct/experiments/0-dlcst-mha/1.2.840.113704.1.111.796.1133364051.11.mha', '/data/bodyct/experiments/0-dlcst-mha/1.2.840.113704.1.111.7980.1221060054.11.mha', '/data/bodyct/experiments/0-dlcst-mha/1.2.840.113704.1.111.7988.1138209825.11.mha', '/data/bodyct/experiments/0-dlcst-mha/1.2.840.113704.1.111.800.1100530718.10.mha', '/data/bodyct/experiments/0-dlcst-mha/1.2.840.113704.1.111.800.1106843494.16.mha', '/data/bodyct/experiments/0-dlcst-mha/1.2.840.113704.1.111.8000.1124379971.11.mha', '/data/bodyct/experiments/0-dlcst-mha/1.2.840.113704.1.111.8020.1141055209.11.mha', '/data/bodyct/experiments/0-dlcst-mha/1.2.840.113704.1.111.8064.1130779550.11.mha', '/data/bodyct/experiments/0-dlcst-mha/1.2.840.113704.1.111.8076.1111076541.16.mha', '/data/bodyct/experiments/0-dlcst-mha/1.2.840.113704.1.111.8092.1124295839.11.mha', '/data/bodyct/experiments/0-dlcst-mha/1.2.840.113704.1.111.8136.1127316971.11.mha', '/data/bodyct/experiments/0-dlcst-mha/1.2.840.113704.1.111.8148.1134579622.14.mha', '/data/bodyct/experiments/0-dlcst-mha/1.2.840.113704.1.111.8152.1100797593.10.mha', '/data/bodyct/experiments/0-dlcst-mha/1.2.840.113704.1.111.816.1101309758.10.mha', '/data/bodyct/experiments/0-dlcst-mha/1.2.840.113704.1.111.8176.1102605882.10.mha', '/data/bodyct/experiments/0-dlcst-mha/1.2.840.113704.1.111.8184.1114529367.11.mha', '/data/bodyct/experiments/0-dlcst-mha/1.2.840.113704.1.111.8188.1105975138.10.mha', '/data/bodyct/experiments/0-dlcst-mha/1.2.840.113704.1.111.8224.1100710645.10.mha', '/data/bodyct/experiments/0-dlcst-mha/1.2.840.113704.1.111.8248.1139415545.11.mha', '/data/bodyct/experiments/0-dlcst-mha/1.2.840.113704.1.111.8316.1106060075.10.mha', '/data/bodyct/experiments/0-dlcst-mha/1.2.840.113704.1.111.836.1108399721.10.mha', '/data/bodyct/experiments/0-dlcst-mha/1.2.840.113704.1.111.8376.1100711306.10.mha', '/data/bodyct/experiments/0-dlcst-mha/1.2.840.113704.1.111.8384.1137085341.11.mha', '/data/bodyct/experiments/0-dlcst-mha/1.2.840.113704.1.111.8404.1105980418.10.mha', '/data/bodyct/experiments/0-dlcst-mha/1.2.840.113704.1.111.848.1138208307.14.mha', '/data/bodyct/experiments/0-dlcst-mha/1.2.840.113704.1.111.8512.1100706202.10.mha', '/data/bodyct/experiments/0-dlcst-mha/1.2.840.113704.1.111.8552.1100708858.10.mha', '/data/bodyct/experiments/0-dlcst-mha/1.2.840.113704.1.111.8628.1101827172.11.mha', '/data/bodyct/experiments/0-dlcst-mha/1.2.840.113704.1.111.8688.1158157224.11.mha', '/data/bodyct/experiments/0-dlcst-mha/1.2.840.113704.1.111.872.1127399148.11.mha', '/data/bodyct/experiments/0-dlcst-mha/1.2.840.113704.1.111.8736.1137686618.11.mha', '/data/bodyct/experiments/0-dlcst-mha/1.2.840.113704.1.111.8808.1117726861.11.mha', '/data/bodyct/experiments/0-dlcst-mha/1.2.840.113704.1.111.8876.1101740627.10.mha', '/data/bodyct/experiments/0-dlcst-mha/1.2.840.113704.1.111.8948.1125331238.10.mha', '/data/bodyct/experiments/0-dlcst-mha/1.2.840.113704.1.111.8992.1129730641.11.mha', '/data/bodyct/experiments/0-dlcst-mha/1.2.840.113704.1.111.9096.1125329829.10.mha', '/data/bodyct/experiments/0-dlcst-mha/1.2.840.113704.1.111.9168.1128007894.11.mha', '/data/bodyct/experiments/0-dlcst-mha/1.2.840.113704.1.111.9220.1130421189.11.mha', '/data/bodyct/experiments/0-dlcst-mha/1.2.840.113704.1.111.9280.1106061889.10.mha', '/data/bodyct/experiments/0-dlcst-mha/1.2.840.113704.1.111.9284.1100711932.13.mha', '/data/bodyct/experiments/0-dlcst-mha/1.2.840.113704.1.111.9316.1128612298.11.mha', '/data/bodyct/experiments/0-dlcst-mha/1.2.840.113704.1.111.9316.1131549792.11.mha', '/data/bodyct/experiments/0-dlcst-mha/1.2.840.113704.1.111.9360.1125327114.11.mha', '/data/bodyct/experiments/0-dlcst-mha/1.2.840.113704.1.111.9376.1128002567.11.mha', '/data/bodyct/experiments/0-dlcst-mha/1.2.840.113704.1.111.9380.1115649949.10.mha', '/data/bodyct/experiments/0-dlcst-mha/1.2.840.113704.1.111.9384.1155658563.14.mha', '/data/bodyct/experiments/0-dlcst-mha/1.2.840.113704.1.111.9480.1130427811.14.mha', '/data/bodyct/experiments/0-dlcst-mha/1.2.840.113704.1.111.9592.1200934074.11.mha', '/data/bodyct/experiments/0-dlcst-mha/1.2.840.113704.1.111.9600.1130258093.11.mha', '/data/bodyct/experiments/0-dlcst-mha/1.2.840.113704.1.111.9604.1101742285.10.mha', '/data/bodyct/experiments/0-dlcst-mha/1.2.840.113704.1.111.9608.1130255701.11.mha', '/data/bodyct/experiments/0-dlcst-mha/1.2.840.113704.1.111.9708.1116427141.11.mha', '/data/bodyct/experiments/0-dlcst-mha/1.2.840.113704.1.111.972.1127917829.11.mha', '/data/bodyct/experiments/0-dlcst-mha/1.2.840.113704.1.111.9792.1109694400.10.mha', '/data/bodyct/experiments/0-dlcst-mha/1.2.840.113704.1.111.9828.1128609706.11.mha', '/data/bodyct/experiments/0-dlcst-mha/1.2.840.113704.1.111.9856.1105980074.10.mha', '/data/bodyct/experiments/0-dlcst-mha/1.2.840.113704.1.111.9860.1101748443.10.mha', '/data/bodyct/experiments/0-dlcst-mha/1.2.840.113704.1.111.9896.1100703913.10.mha', '/data/bodyct/experiments/0-dlcst-mha/1.2.840.113704.1.111.9940.1109260325.10.mha', '/data/bodyct/experiments/0-dlcst-mha/1.2.840.113704.1.111.9960.1106063366.10.mha', '/data/bodyct/experiments/0-dlcst-mha/1.2.840.113704.1.111.9964.1130422253.14.mha', '/data/bodyct/experiments/0-dlcst-mha/1.2.840.113704.1.111.9992.1130427050.11.mha']\n"
     ]
    },
    {
     "name": "stderr",
     "output_type": "stream",
     "text": [
      "  0%|          | 0/175 [00:00<?, ?it/s]"
     ]
    },
    {
     "name": "stdout",
     "output_type": "stream",
     "text": [
      "(309, 512, 512)\n",
      "(309, 512, 512)\n",
      "(309, 512, 512)\n",
      "(309, 512, 512)\n",
      "(309, 512, 512)\n",
      "(309, 512, 512)\n"
     ]
    },
    {
     "name": "stderr",
     "output_type": "stream",
     "text": [
      "  1%|          | 1/175 [00:44<2:08:49, 44.42s/it]"
     ]
    },
    {
     "name": "stdout",
     "output_type": "stream",
     "text": [
      "Prediction(scores=[[0.0, 0.0015740740740740743, 0.0029513487265095673, 0.006847014817261502, 0.010381396771807386, 0.01728707626903897]])\n",
      "(342, 512, 512)\n",
      "(342, 512, 512)\n",
      "(342, 512, 512)\n",
      "(342, 512, 512)\n",
      "(342, 512, 512)\n",
      "(342, 512, 512)\n"
     ]
    },
    {
     "name": "stderr",
     "output_type": "stream",
     "text": [
      "  1%|          | 2/175 [01:33<2:15:14, 46.90s/it]"
     ]
    },
    {
     "name": "stdout",
     "output_type": "stream",
     "text": [
      "Prediction(scores=[[0.003950885877035175, 0.01567411799742145, 0.025834542409173357, 0.038380454591673496, 0.04527541991511172, 0.06726579128160688]])\n",
      "(286, 512, 512)\n",
      "(286, 512, 512)\n",
      "(286, 512, 512)\n",
      "(286, 512, 512)\n",
      "(286, 512, 512)\n",
      "(286, 512, 512)\n"
     ]
    },
    {
     "name": "stderr",
     "output_type": "stream",
     "text": [
      "  2%|▏         | 3/175 [02:13<2:06:29, 44.12s/it]"
     ]
    },
    {
     "name": "stdout",
     "output_type": "stream",
     "text": [
      "Prediction(scores=[[0.0011701163019909324, 0.002554438672368111, 0.007834902850118133, 0.011038577845079741, 0.01844215956227956, 0.030889601556235824]])\n",
      "(337, 512, 512)\n",
      "(337, 512, 512)\n",
      "(337, 512, 512)\n",
      "(337, 512, 512)\n",
      "(337, 512, 512)\n",
      "(337, 512, 512)\n"
     ]
    },
    {
     "name": "stderr",
     "output_type": "stream",
     "text": [
      "  2%|▏         | 4/175 [03:01<2:10:14, 45.70s/it]"
     ]
    },
    {
     "name": "stdout",
     "output_type": "stream",
     "text": [
      "Prediction(scores=[[0.007145048736580039, 0.02014553619432984, 0.03184564247875947, 0.04143085246965759, 0.05145063643515583, 0.07631842286055424]])\n",
      "(348, 512, 512)\n",
      "(348, 512, 512)\n",
      "(348, 512, 512)\n",
      "(348, 512, 512)\n",
      "(348, 512, 512)\n",
      "(348, 512, 512)\n"
     ]
    },
    {
     "name": "stderr",
     "output_type": "stream",
     "text": [
      "  3%|▎         | 5/175 [03:49<2:11:11, 46.30s/it]"
     ]
    },
    {
     "name": "stdout",
     "output_type": "stream",
     "text": [
      "Prediction(scores=[[0.05741631638052795, 0.11387587948994367, 0.15048689721346972, 0.17213596051472665, 0.19081123978149148, 0.24696671593223316]])\n",
      "(346, 512, 512)\n",
      "(346, 512, 512)\n",
      "(346, 512, 512)\n",
      "(346, 512, 512)\n",
      "(346, 512, 512)\n",
      "(346, 512, 512)\n"
     ]
    },
    {
     "name": "stderr",
     "output_type": "stream",
     "text": [
      "  3%|▎         | 6/175 [04:43<2:18:00, 49.00s/it]"
     ]
    },
    {
     "name": "stdout",
     "output_type": "stream",
     "text": [
      "Prediction(scores=[[0.002824125313654893, 0.011458655748540176, 0.025373366947997893, 0.03400982522104413, 0.04010126005605308, 0.05885240545483521]])\n",
      "(307, 512, 512)\n",
      "(307, 512, 512)\n",
      "(307, 512, 512)\n",
      "(307, 512, 512)\n",
      "(307, 512, 512)\n",
      "(307, 512, 512)\n"
     ]
    },
    {
     "name": "stderr",
     "output_type": "stream",
     "text": [
      "  4%|▍         | 7/175 [05:26<2:11:52, 47.10s/it]"
     ]
    },
    {
     "name": "stdout",
     "output_type": "stream",
     "text": [
      "Prediction(scores=[[0.0017836132345062697, 0.005281162890320399, 0.00904211839128372, 0.01324973354966939, 0.01922933035321872, 0.03295727072916815]])\n",
      "(303, 512, 512)\n",
      "(303, 512, 512)\n",
      "(303, 512, 512)\n",
      "(303, 512, 512)\n",
      "(303, 512, 512)\n",
      "(303, 512, 512)\n"
     ]
    },
    {
     "name": "stderr",
     "output_type": "stream",
     "text": [
      "  5%|▍         | 8/175 [06:09<2:07:17, 45.74s/it]"
     ]
    },
    {
     "name": "stdout",
     "output_type": "stream",
     "text": [
      "Prediction(scores=[[0.0011701163019909324, 0.002554438672368111, 0.007834902850118133, 0.011038577845079741, 0.01844215956227956, 0.030889601556235824]])\n",
      "(358, 512, 512)\n",
      "(358, 512, 512)\n",
      "(358, 512, 512)\n",
      "(358, 512, 512)\n",
      "(358, 512, 512)\n",
      "(358, 512, 512)\n"
     ]
    },
    {
     "name": "stderr",
     "output_type": "stream",
     "text": [
      "  5%|▌         | 9/175 [06:59<2:09:43, 46.89s/it]"
     ]
    },
    {
     "name": "stdout",
     "output_type": "stream",
     "text": [
      "Prediction(scores=[[0.0011701163019909324, 0.005281162890320399, 0.00904211839128372, 0.01324973354966939, 0.01922933035321872, 0.03295727072916815]])\n",
      "(355, 512, 512)\n",
      "(355, 512, 512)\n",
      "(355, 512, 512)\n",
      "(355, 512, 512)\n",
      "(355, 512, 512)\n",
      "(355, 512, 512)\n"
     ]
    },
    {
     "name": "stderr",
     "output_type": "stream",
     "text": [
      "  6%|▌         | 10/175 [07:55<2:16:49, 49.76s/it]"
     ]
    },
    {
     "name": "stdout",
     "output_type": "stream",
     "text": [
      "Prediction(scores=[[0.0011701163019909324, 0.002554438672368111, 0.007834902850118133, 0.011038577845079741, 0.01844215956227956, 0.030889601556235824]])\n",
      "(337, 512, 512)\n",
      "(337, 512, 512)\n",
      "(337, 512, 512)\n",
      "(337, 512, 512)\n",
      "(337, 512, 512)\n",
      "(337, 512, 512)\n"
     ]
    },
    {
     "name": "stderr",
     "output_type": "stream",
     "text": [
      "  6%|▋         | 11/175 [08:50<2:20:45, 51.50s/it]"
     ]
    },
    {
     "name": "stdout",
     "output_type": "stream",
     "text": [
      "Prediction(scores=[[0.04341054660850431, 0.06931846588905181, 0.09072459188594703, 0.1095048281749049, 0.12106984702093397, 0.16495823686493055]])\n",
      "(360, 512, 512)\n",
      "(360, 512, 512)\n",
      "(360, 512, 512)\n",
      "(360, 512, 512)\n",
      "(360, 512, 512)\n",
      "(360, 512, 512)\n"
     ]
    },
    {
     "name": "stderr",
     "output_type": "stream",
     "text": [
      "  7%|▋         | 12/175 [09:43<2:20:56, 51.88s/it]"
     ]
    },
    {
     "name": "stdout",
     "output_type": "stream",
     "text": [
      "Prediction(scores=[[0.10532212885154062, 0.15510633867102647, 0.182200447476304, 0.20484065220775888, 0.21823425304522298, 0.28488426931112054]])\n",
      "(322, 512, 512)\n",
      "(322, 512, 512)\n",
      "(322, 512, 512)\n",
      "(322, 512, 512)\n",
      "(322, 512, 512)\n",
      "(322, 512, 512)\n"
     ]
    },
    {
     "name": "stderr",
     "output_type": "stream",
     "text": [
      "  7%|▋         | 13/175 [10:30<2:15:53, 50.33s/it]"
     ]
    },
    {
     "name": "stdout",
     "output_type": "stream",
     "text": [
      "Prediction(scores=[[0.010938370464701579, 0.024063714534164626, 0.04224976132834274, 0.05821437147954459, 0.07314371734016148, 0.11171709974061055]])\n",
      "(330, 512, 512)\n",
      "(330, 512, 512)\n",
      "(330, 512, 512)\n",
      "(330, 512, 512)\n",
      "(330, 512, 512)\n",
      "(330, 512, 512)\n"
     ]
    },
    {
     "name": "stderr",
     "output_type": "stream",
     "text": [
      "  8%|▊         | 14/175 [11:20<2:14:54, 50.27s/it]"
     ]
    },
    {
     "name": "stdout",
     "output_type": "stream",
     "text": [
      "Prediction(scores=[[0.0019649702414815395, 0.006792662605387028, 0.01361832965162377, 0.01728884468542021, 0.021685326042547536, 0.03595085191094143]])\n",
      "(385, 512, 512)\n",
      "(385, 512, 512)\n",
      "(385, 512, 512)\n",
      "(385, 512, 512)\n",
      "(385, 512, 512)\n",
      "(385, 512, 512)\n"
     ]
    },
    {
     "name": "stderr",
     "output_type": "stream",
     "text": [
      "  9%|▊         | 15/175 [12:17<2:19:53, 52.46s/it]"
     ]
    },
    {
     "name": "stdout",
     "output_type": "stream",
     "text": [
      "Prediction(scores=[[0.0017836132345062697, 0.005733155166957225, 0.010996154998153504, 0.015721401064839158, 0.021112428503069026, 0.03410329084299056]])\n",
      "(330, 512, 512)\n",
      "(330, 512, 512)\n",
      "(330, 512, 512)\n",
      "(330, 512, 512)\n",
      "(330, 512, 512)\n",
      "(330, 512, 512)\n"
     ]
    },
    {
     "name": "stderr",
     "output_type": "stream",
     "text": [
      "  9%|▉         | 16/175 [13:08<2:17:13, 51.78s/it]"
     ]
    },
    {
     "name": "stdout",
     "output_type": "stream",
     "text": [
      "Prediction(scores=[[0.0011701163019909324, 0.0020480077233631737, 0.005017651482467496, 0.008837064568505281, 0.014169944457552302, 0.022664209804468434]])\n",
      "(325, 512, 512)\n",
      "(325, 512, 512)\n",
      "(325, 512, 512)\n",
      "(325, 512, 512)\n",
      "(325, 512, 512)\n",
      "(325, 512, 512)\n"
     ]
    },
    {
     "name": "stderr",
     "output_type": "stream",
     "text": [
      " 10%|▉         | 17/175 [13:57<2:14:48, 51.19s/it]"
     ]
    },
    {
     "name": "stdout",
     "output_type": "stream",
     "text": [
      "Prediction(scores=[[0.0, 0.0015740740740740743, 0.004032429807590649, 0.006847014817261502, 0.010381396771807386, 0.019111393468237536]])\n",
      "(397, 512, 512)\n",
      "(397, 512, 512)\n",
      "(397, 512, 512)\n",
      "(397, 512, 512)\n",
      "(397, 512, 512)\n",
      "(397, 512, 512)\n"
     ]
    },
    {
     "name": "stderr",
     "output_type": "stream",
     "text": [
      " 10%|█         | 18/175 [15:11<2:31:43, 57.98s/it]"
     ]
    },
    {
     "name": "stdout",
     "output_type": "stream",
     "text": [
      "Prediction(scores=[[0.0017836132345062697, 0.005281162890320399, 0.009297013536689816, 0.014397328726074975, 0.021112428503069026, 0.03410329084299056]])\n",
      "(384, 512, 512)\n",
      "(384, 512, 512)\n",
      "(384, 512, 512)\n",
      "(384, 512, 512)\n",
      "(384, 512, 512)\n",
      "(384, 512, 512)\n"
     ]
    },
    {
     "name": "stderr",
     "output_type": "stream",
     "text": [
      " 11%|█         | 19/175 [16:09<2:30:20, 57.82s/it]"
     ]
    },
    {
     "name": "stdout",
     "output_type": "stream",
     "text": [
      "Prediction(scores=[[0.003950885877035175, 0.01567411799742145, 0.025373366947997893, 0.034918916130135036, 0.0435067212092039, 0.06389626510395803]])\n",
      "(307, 512, 512)\n",
      "(307, 512, 512)\n",
      "(307, 512, 512)\n",
      "(307, 512, 512)\n",
      "(307, 512, 512)\n",
      "(307, 512, 512)\n"
     ]
    },
    {
     "name": "stderr",
     "output_type": "stream",
     "text": [
      " 11%|█▏        | 20/175 [16:59<2:23:47, 55.66s/it]"
     ]
    },
    {
     "name": "stdout",
     "output_type": "stream",
     "text": [
      "Prediction(scores=[[0.00014802961567169525, 0.0020480077233631737, 0.005017651482467496, 0.008837064568505281, 0.014169944457552302, 0.021661887350000762]])\n",
      "(334, 512, 512)\n",
      "(334, 512, 512)\n",
      "(334, 512, 512)\n",
      "(334, 512, 512)\n",
      "(334, 512, 512)\n",
      "(334, 512, 512)\n"
     ]
    },
    {
     "name": "stderr",
     "output_type": "stream",
     "text": [
      " 12%|█▏        | 21/175 [17:48<2:17:32, 53.59s/it]"
     ]
    },
    {
     "name": "stdout",
     "output_type": "stream",
     "text": [
      "Prediction(scores=[[0.1062687630938007, 0.16783944433313297, 0.18997551335197146, 0.2177990953338717, 0.22975303872329045, 0.30013701541832216]])\n",
      "(354, 512, 512)\n",
      "(354, 512, 512)\n",
      "(354, 512, 512)\n",
      "(354, 512, 512)\n",
      "(354, 512, 512)\n",
      "(354, 512, 512)\n"
     ]
    },
    {
     "name": "stderr",
     "output_type": "stream",
     "text": [
      " 13%|█▎        | 22/175 [18:40<2:15:21, 53.08s/it]"
     ]
    },
    {
     "name": "stdout",
     "output_type": "stream",
     "text": [
      "Prediction(scores=[[0.0019649702414815395, 0.010089723091537396, 0.01361832965162377, 0.01728884468542021, 0.021685326042547536, 0.03595085191094143]])\n",
      "(358, 512, 512)\n",
      "(358, 512, 512)\n",
      "(358, 512, 512)\n",
      "(358, 512, 512)\n",
      "(358, 512, 512)\n",
      "(358, 512, 512)\n"
     ]
    },
    {
     "name": "stderr",
     "output_type": "stream",
     "text": [
      " 13%|█▎        | 23/175 [19:33<2:14:21, 53.04s/it]"
     ]
    },
    {
     "name": "stdout",
     "output_type": "stream",
     "text": [
      "Prediction(scores=[[0.0011701163019909324, 0.002554438672368111, 0.007834902850118133, 0.011038577845079741, 0.01844215956227956, 0.030889601556235824]])\n",
      "(364, 512, 512)\n",
      "(364, 512, 512)\n",
      "(364, 512, 512)\n",
      "(364, 512, 512)\n",
      "(364, 512, 512)\n",
      "(364, 512, 512)\n"
     ]
    },
    {
     "name": "stderr",
     "output_type": "stream",
     "text": [
      " 14%|█▎        | 24/175 [20:31<2:17:27, 54.62s/it]"
     ]
    },
    {
     "name": "stdout",
     "output_type": "stream",
     "text": [
      "Prediction(scores=[[0.0019649702414815395, 0.006792662605387028, 0.01361832965162377, 0.01728884468542021, 0.021685326042547536, 0.03595085191094143]])\n",
      "(331, 512, 512)\n",
      "(331, 512, 512)\n",
      "(331, 512, 512)\n",
      "(331, 512, 512)\n",
      "(331, 512, 512)\n",
      "(331, 512, 512)\n"
     ]
    },
    {
     "name": "stderr",
     "output_type": "stream",
     "text": [
      " 14%|█▍        | 25/175 [21:21<2:13:18, 53.33s/it]"
     ]
    },
    {
     "name": "stdout",
     "output_type": "stream",
     "text": [
      "Prediction(scores=[[0.021628819563619374, 0.03857256315036462, 0.07191945816622261, 0.07926975188037134, 0.09584583525781108, 0.13568094038444453]])\n",
      "(361, 512, 512)\n",
      "(361, 512, 512)\n",
      "(361, 512, 512)\n",
      "(361, 512, 512)\n",
      "(361, 512, 512)\n",
      "(361, 512, 512)\n"
     ]
    },
    {
     "name": "stderr",
     "output_type": "stream",
     "text": [
      " 15%|█▍        | 26/175 [22:15<2:12:23, 53.31s/it]"
     ]
    },
    {
     "name": "stdout",
     "output_type": "stream",
     "text": [
      "Prediction(scores=[[0.0011701163019909324, 0.0038702281460523216, 0.007834902850118133, 0.012796834998944757, 0.01922933035321872, 0.03295727072916815]])\n",
      "(357, 512, 512)\n",
      "(357, 512, 512)\n",
      "(357, 512, 512)\n",
      "(357, 512, 512)\n",
      "(357, 512, 512)\n",
      "(357, 512, 512)\n"
     ]
    },
    {
     "name": "stderr",
     "output_type": "stream",
     "text": [
      " 15%|█▌        | 27/175 [23:08<2:11:20, 53.25s/it]"
     ]
    },
    {
     "name": "stdout",
     "output_type": "stream",
     "text": [
      "Prediction(scores=[[0.0019649702414815395, 0.006792662605387028, 0.01361832965162377, 0.01728884468542021, 0.021685326042547536, 0.03595085191094143]])\n",
      "(397, 512, 512)\n",
      "(397, 512, 512)\n",
      "(397, 512, 512)\n",
      "(397, 512, 512)\n",
      "(397, 512, 512)\n",
      "(397, 512, 512)\n"
     ]
    },
    {
     "name": "stderr",
     "output_type": "stream",
     "text": [
      " 16%|█▌        | 28/175 [24:08<2:15:26, 55.28s/it]"
     ]
    },
    {
     "name": "stdout",
     "output_type": "stream",
     "text": [
      "Prediction(scores=[[0.003950885877035175, 0.01567411799742145, 0.02732860013413091, 0.038380454591673496, 0.04576803075255014, 0.06831842286055423]])\n",
      "(358, 512, 512)\n",
      "(358, 512, 512)\n",
      "(358, 512, 512)\n",
      "(358, 512, 512)\n",
      "(358, 512, 512)\n",
      "(358, 512, 512)\n"
     ]
    },
    {
     "name": "stderr",
     "output_type": "stream",
     "text": [
      " 17%|█▋        | 29/175 [25:03<2:14:16, 55.18s/it]"
     ]
    },
    {
     "name": "stdout",
     "output_type": "stream",
     "text": [
      "Prediction(scores=[[0.19086834733893557, 0.2734935897435897, 0.26875991966209495, 0.3048162076109246, 0.3362611626417703, 0.38920876355194894]])\n",
      "(324, 512, 512)\n",
      "(324, 512, 512)\n",
      "(324, 512, 512)\n",
      "(324, 512, 512)\n",
      "(324, 512, 512)\n",
      "(324, 512, 512)\n"
     ]
    },
    {
     "name": "stderr",
     "output_type": "stream",
     "text": [
      " 17%|█▋        | 30/175 [25:51<2:08:30, 53.17s/it]"
     ]
    },
    {
     "name": "stdout",
     "output_type": "stream",
     "text": [
      "Prediction(scores=[[0.0017836132345062697, 0.005281162890320399, 0.00904211839128372, 0.01324973354966939, 0.01950432844350976, 0.03295727072916815]])\n",
      "(373, 512, 512)\n",
      "(373, 512, 512)\n",
      "(373, 512, 512)\n",
      "(373, 512, 512)\n",
      "(373, 512, 512)\n",
      "(373, 512, 512)\n"
     ]
    },
    {
     "name": "stderr",
     "output_type": "stream",
     "text": [
      " 18%|█▊        | 31/175 [26:47<2:09:19, 53.89s/it]"
     ]
    },
    {
     "name": "stdout",
     "output_type": "stream",
     "text": [
      "Prediction(scores=[[0.0017836132345062697, 0.005733155166957225, 0.010996154998153504, 0.015721401064839158, 0.021112428503069026, 0.03410329084299056]])\n",
      "(373, 512, 512)\n",
      "(373, 512, 512)\n",
      "(373, 512, 512)\n",
      "(373, 512, 512)\n",
      "(373, 512, 512)\n",
      "(373, 512, 512)\n"
     ]
    },
    {
     "name": "stderr",
     "output_type": "stream",
     "text": [
      " 18%|█▊        | 32/175 [27:42<2:09:36, 54.38s/it]"
     ]
    },
    {
     "name": "stdout",
     "output_type": "stream",
     "text": [
      "Prediction(scores=[[0.003950885877035175, 0.01567411799742145, 0.02732860013413091, 0.038380454591673496, 0.05063982562434501, 0.07365175619388757]])\n",
      "(321, 512, 512)\n",
      "(321, 512, 512)\n",
      "(321, 512, 512)\n",
      "(321, 512, 512)\n",
      "(321, 512, 512)\n",
      "(321, 512, 512)\n"
     ]
    },
    {
     "name": "stderr",
     "output_type": "stream",
     "text": [
      " 19%|█▉        | 33/175 [28:32<2:05:10, 52.89s/it]"
     ]
    },
    {
     "name": "stdout",
     "output_type": "stream",
     "text": [
      "Prediction(scores=[[0.19086834733893557, 0.2734935897435897, 0.2848857600991094, 0.3198932128975639, 0.34999792109430866, 0.3929014085054207]])\n",
      "(321, 512, 512)\n",
      "(321, 512, 512)\n",
      "(321, 512, 512)\n",
      "(321, 512, 512)\n",
      "(321, 512, 512)\n",
      "(321, 512, 512)\n"
     ]
    },
    {
     "name": "stderr",
     "output_type": "stream",
     "text": [
      " 19%|█▉        | 34/175 [29:18<1:59:23, 50.81s/it]"
     ]
    },
    {
     "name": "stdout",
     "output_type": "stream",
     "text": [
      "Prediction(scores=[[0.010938370464701579, 0.02384829677758669, 0.03815429263238978, 0.05607827138799744, 0.06831088053115783, 0.10401854673041115]])\n",
      "(393, 512, 512)\n",
      "(393, 512, 512)\n",
      "(393, 512, 512)\n",
      "(393, 512, 512)\n",
      "(393, 512, 512)\n",
      "(393, 512, 512)\n"
     ]
    },
    {
     "name": "stderr",
     "output_type": "stream",
     "text": [
      " 20%|██        | 35/175 [30:18<2:05:26, 53.76s/it]"
     ]
    },
    {
     "name": "stdout",
     "output_type": "stream",
     "text": [
      "Prediction(scores=[[0.17150907286007117, 0.2734935897435897, 0.2579613623091884, 0.2947199954517028, 0.3270622710622711, 0.38671981401723177]])\n",
      "(349, 512, 512)\n",
      "(349, 512, 512)\n",
      "(349, 512, 512)\n",
      "(349, 512, 512)\n",
      "(349, 512, 512)\n",
      "(349, 512, 512)\n"
     ]
    },
    {
     "name": "stderr",
     "output_type": "stream",
     "text": [
      " 21%|██        | 36/175 [31:08<2:01:29, 52.44s/it]"
     ]
    },
    {
     "name": "stdout",
     "output_type": "stream",
     "text": [
      "Prediction(scores=[[0.0017836132345062697, 0.005281162890320399, 0.009297013536689816, 0.014397328726074975, 0.021112428503069026, 0.03410329084299056]])\n",
      "(304, 512, 512)\n",
      "(304, 512, 512)\n",
      "(304, 512, 512)\n",
      "(304, 512, 512)\n",
      "(304, 512, 512)\n",
      "(304, 512, 512)\n"
     ]
    },
    {
     "name": "stderr",
     "output_type": "stream",
     "text": [
      " 21%|██        | 37/175 [31:54<1:56:34, 50.68s/it]"
     ]
    },
    {
     "name": "stdout",
     "output_type": "stream",
     "text": [
      "Prediction(scores=[[0.0011701163019909324, 0.002554438672368111, 0.007834902850118133, 0.011038577845079741, 0.01844215956227956, 0.030460482782289466]])\n",
      "(370, 512, 512)\n",
      "(370, 512, 512)\n",
      "(370, 512, 512)\n",
      "(370, 512, 512)\n",
      "(370, 512, 512)\n",
      "(370, 512, 512)\n"
     ]
    },
    {
     "name": "stderr",
     "output_type": "stream",
     "text": [
      " 22%|██▏       | 38/175 [32:48<1:58:05, 51.72s/it]"
     ]
    },
    {
     "name": "stdout",
     "output_type": "stream",
     "text": [
      "Prediction(scores=[[0.0017836132345062697, 0.005281162890320399, 0.010996154998153504, 0.015721401064839158, 0.021112428503069026, 0.03410329084299056]])\n",
      "(361, 512, 512)\n",
      "(361, 512, 512)\n",
      "(361, 512, 512)\n",
      "(361, 512, 512)\n",
      "(361, 512, 512)\n",
      "(361, 512, 512)\n"
     ]
    },
    {
     "name": "stderr",
     "output_type": "stream",
     "text": [
      " 22%|██▏       | 39/175 [33:38<1:55:43, 51.05s/it]"
     ]
    },
    {
     "name": "stdout",
     "output_type": "stream",
     "text": [
      "Prediction(scores=[[0.0011701163019909324, 0.002554438672368111, 0.007834902850118133, 0.012796834998944757, 0.01922933035321872, 0.03295727072916815]])\n",
      "(291, 512, 512)\n",
      "(291, 512, 512)\n",
      "(291, 512, 512)\n",
      "(291, 512, 512)\n",
      "(291, 512, 512)\n",
      "(291, 512, 512)\n"
     ]
    },
    {
     "name": "stderr",
     "output_type": "stream",
     "text": [
      " 23%|██▎       | 40/175 [34:21<1:49:42, 48.76s/it]"
     ]
    },
    {
     "name": "stdout",
     "output_type": "stream",
     "text": [
      "Prediction(scores=[[0.0011701163019909324, 0.005281162890320399, 0.00904211839128372, 0.01324973354966939, 0.01922933035321872, 0.03295727072916815]])\n",
      "(333, 512, 512)\n",
      "(333, 512, 512)\n",
      "(333, 512, 512)\n",
      "(333, 512, 512)\n",
      "(333, 512, 512)\n",
      "(333, 512, 512)\n"
     ]
    },
    {
     "name": "stderr",
     "output_type": "stream",
     "text": [
      " 23%|██▎       | 41/175 [35:12<1:50:07, 49.31s/it]"
     ]
    },
    {
     "name": "stdout",
     "output_type": "stream",
     "text": [
      "Prediction(scores=[[0.010938370464701579, 0.02384829677758669, 0.03815429263238978, 0.05607827138799744, 0.06831088053115783, 0.10401854673041115]])\n",
      "(334, 512, 512)\n",
      "(334, 512, 512)\n",
      "(334, 512, 512)\n",
      "(334, 512, 512)\n",
      "(334, 512, 512)\n",
      "(334, 512, 512)\n"
     ]
    },
    {
     "name": "stderr",
     "output_type": "stream",
     "text": [
      " 24%|██▍       | 42/175 [36:01<1:48:52, 49.12s/it]"
     ]
    },
    {
     "name": "stdout",
     "output_type": "stream",
     "text": [
      "Prediction(scores=[[0.0, 0.0015740740740740743, 0.002419433832892546, 0.003265360522457683, 0.004117709325711866, 0.012448594113586859]])\n",
      "(342, 512, 512)\n",
      "(342, 512, 512)\n",
      "(342, 512, 512)\n",
      "(342, 512, 512)\n",
      "(342, 512, 512)\n",
      "(342, 512, 512)\n"
     ]
    },
    {
     "name": "stderr",
     "output_type": "stream",
     "text": [
      " 25%|██▍       | 43/175 [36:54<1:51:04, 50.49s/it]"
     ]
    },
    {
     "name": "stdout",
     "output_type": "stream",
     "text": [
      "Prediction(scores=[[0.0017836132345062697, 0.005281162890320399, 0.010996154998153504, 0.015721401064839158, 0.021112428503069026, 0.03410329084299056]])\n",
      "(294, 512, 512)\n",
      "(294, 512, 512)\n",
      "(294, 512, 512)\n",
      "(294, 512, 512)\n",
      "(294, 512, 512)\n",
      "(294, 512, 512)\n"
     ]
    },
    {
     "name": "stderr",
     "output_type": "stream",
     "text": [
      " 25%|██▌       | 44/175 [37:36<1:44:34, 47.90s/it]"
     ]
    },
    {
     "name": "stdout",
     "output_type": "stream",
     "text": [
      "Prediction(scores=[[0.0017836132345062697, 0.005281162890320399, 0.009297013536689816, 0.014397328726074975, 0.021112428503069026, 0.03410329084299056]])\n",
      "(361, 512, 512)\n",
      "(361, 512, 512)\n",
      "(361, 512, 512)\n",
      "(361, 512, 512)\n",
      "(361, 512, 512)\n",
      "(361, 512, 512)\n"
     ]
    },
    {
     "name": "stderr",
     "output_type": "stream",
     "text": [
      " 26%|██▌       | 45/175 [38:27<1:45:41, 48.78s/it]"
     ]
    },
    {
     "name": "stdout",
     "output_type": "stream",
     "text": [
      "Prediction(scores=[[0.0, 0.0015740740740740743, 0.004032429807590649, 0.006847014817261502, 0.010381396771807386, 0.019111393468237536]])\n",
      "(342, 512, 512)\n",
      "(342, 512, 512)\n",
      "(342, 512, 512)\n",
      "(342, 512, 512)\n",
      "(342, 512, 512)\n",
      "(342, 512, 512)\n"
     ]
    },
    {
     "name": "stderr",
     "output_type": "stream",
     "text": [
      " 26%|██▋       | 46/175 [39:12<1:42:27, 47.66s/it]"
     ]
    },
    {
     "name": "stdout",
     "output_type": "stream",
     "text": [
      "Prediction(scores=[[0.0011701163019909324, 0.002554438672368111, 0.007834902850118133, 0.012796834998944757, 0.01922933035321872, 0.03295727072916815]])\n",
      "(313, 512, 512)\n",
      "(313, 512, 512)\n",
      "(313, 512, 512)\n",
      "(313, 512, 512)\n",
      "(313, 512, 512)\n",
      "(313, 512, 512)\n"
     ]
    },
    {
     "name": "stderr",
     "output_type": "stream",
     "text": [
      " 27%|██▋       | 47/175 [40:01<1:42:40, 48.13s/it]"
     ]
    },
    {
     "name": "stdout",
     "output_type": "stream",
     "text": [
      "Prediction(scores=[[0.0, 0.0015740740740740743, 0.004032429807590649, 0.006847014817261502, 0.010381396771807386, 0.019111393468237536]])\n",
      "(333, 512, 512)\n",
      "(333, 512, 512)\n",
      "(333, 512, 512)\n",
      "(333, 512, 512)\n",
      "(333, 512, 512)\n",
      "(333, 512, 512)\n"
     ]
    },
    {
     "name": "stderr",
     "output_type": "stream",
     "text": [
      " 27%|██▋       | 48/175 [40:52<1:43:29, 48.89s/it]"
     ]
    },
    {
     "name": "stdout",
     "output_type": "stream",
     "text": [
      "Prediction(scores=[[0.0011701163019909324, 0.005281162890320399, 0.00904211839128372, 0.01324973354966939, 0.01922933035321872, 0.03295727072916815]])\n",
      "(307, 512, 512)\n",
      "(307, 512, 512)\n",
      "(307, 512, 512)\n",
      "(307, 512, 512)\n",
      "(307, 512, 512)\n",
      "(307, 512, 512)\n"
     ]
    },
    {
     "name": "stderr",
     "output_type": "stream",
     "text": [
      " 28%|██▊       | 49/175 [41:31<1:36:12, 45.82s/it]"
     ]
    },
    {
     "name": "stdout",
     "output_type": "stream",
     "text": [
      "Prediction(scores=[[0.0019649702414815395, 0.006792662605387028, 0.01361832965162377, 0.01728884468542021, 0.021685326042547536, 0.03595085191094143]])\n",
      "(339, 512, 512)\n",
      "(339, 512, 512)\n",
      "(339, 512, 512)\n",
      "(339, 512, 512)\n",
      "(339, 512, 512)\n",
      "(339, 512, 512)\n"
     ]
    },
    {
     "name": "stderr",
     "output_type": "stream",
     "text": [
      " 29%|██▊       | 50/175 [42:22<1:39:01, 47.53s/it]"
     ]
    },
    {
     "name": "stdout",
     "output_type": "stream",
     "text": [
      "Prediction(scores=[[0.0019649702414815395, 0.010089723091537396, 0.01470105163492759, 0.01728884468542021, 0.02780623457201985, 0.03595085191094143]])\n",
      "(358, 512, 512)\n",
      "(358, 512, 512)\n",
      "(358, 512, 512)\n",
      "(358, 512, 512)\n",
      "(358, 512, 512)\n",
      "(358, 512, 512)\n"
     ]
    },
    {
     "name": "stderr",
     "output_type": "stream",
     "text": [
      " 29%|██▉       | 51/175 [43:16<1:42:06, 49.40s/it]"
     ]
    },
    {
     "name": "stdout",
     "output_type": "stream",
     "text": [
      "Prediction(scores=[[0.00042105263157894734, 0.0020480077233631737, 0.007459673251587565, 0.01083925972286626, 0.015320973407674382, 0.027853959343378625]])\n",
      "(364, 512, 512)\n",
      "(364, 512, 512)\n",
      "(364, 512, 512)\n",
      "(364, 512, 512)\n",
      "(364, 512, 512)\n",
      "(364, 512, 512)\n"
     ]
    },
    {
     "name": "stderr",
     "output_type": "stream",
     "text": [
      " 30%|██▉       | 52/175 [44:05<1:40:54, 49.22s/it]"
     ]
    },
    {
     "name": "stdout",
     "output_type": "stream",
     "text": [
      "Prediction(scores=[[0.003950885877035175, 0.01567411799742145, 0.025373366947997893, 0.034918916130135036, 0.0435067212092039, 0.06389626510395803]])\n",
      "(321, 512, 512)\n",
      "(321, 512, 512)\n",
      "(321, 512, 512)\n",
      "(321, 512, 512)\n",
      "(321, 512, 512)\n",
      "(321, 512, 512)\n"
     ]
    },
    {
     "name": "stderr",
     "output_type": "stream",
     "text": [
      " 30%|███       | 53/175 [44:53<1:39:44, 49.05s/it]"
     ]
    },
    {
     "name": "stdout",
     "output_type": "stream",
     "text": [
      "Prediction(scores=[[0.0011701163019909324, 0.0020480077233631737, 0.006330933808853331, 0.010185026003509966, 0.014169944457552302, 0.022664209804468434]])\n",
      "(309, 512, 512)\n",
      "(309, 512, 512)\n",
      "(309, 512, 512)\n",
      "(309, 512, 512)\n",
      "(309, 512, 512)\n",
      "(309, 512, 512)\n"
     ]
    },
    {
     "name": "stderr",
     "output_type": "stream",
     "text": [
      " 31%|███       | 54/175 [45:38<1:36:29, 47.84s/it]"
     ]
    },
    {
     "name": "stdout",
     "output_type": "stream",
     "text": [
      "Prediction(scores=[[0.0, 0.0015740740740740743, 0.0029513487265095673, 0.006847014817261502, 0.010381396771807386, 0.01728707626903897]])\n",
      "(295, 512, 512)\n",
      "(295, 512, 512)\n",
      "(295, 512, 512)\n",
      "(295, 512, 512)\n",
      "(295, 512, 512)\n",
      "(295, 512, 512)\n"
     ]
    },
    {
     "name": "stderr",
     "output_type": "stream",
     "text": [
      " 31%|███▏      | 55/175 [46:21<1:32:45, 46.38s/it]"
     ]
    },
    {
     "name": "stdout",
     "output_type": "stream",
     "text": [
      "Prediction(scores=[[0.0011701163019909324, 0.005281162890320399, 0.00904211839128372, 0.01324973354966939, 0.01922933035321872, 0.03295727072916815]])\n",
      "(291, 512, 512)\n",
      "(291, 512, 512)\n",
      "(291, 512, 512)\n",
      "(291, 512, 512)\n",
      "(291, 512, 512)\n",
      "(291, 512, 512)\n"
     ]
    },
    {
     "name": "stderr",
     "output_type": "stream",
     "text": [
      " 32%|███▏      | 56/175 [47:06<1:31:05, 45.93s/it]"
     ]
    },
    {
     "name": "stdout",
     "output_type": "stream",
     "text": [
      "Prediction(scores=[[0.003950885877035175, 0.01567411799742145, 0.025834542409173357, 0.038380454591673496, 0.04527541991511172, 0.06726579128160688]])\n",
      "(360, 512, 512)\n",
      "(360, 512, 512)\n",
      "(360, 512, 512)\n",
      "(360, 512, 512)\n",
      "(360, 512, 512)\n",
      "(360, 512, 512)\n"
     ]
    },
    {
     "name": "stderr",
     "output_type": "stream",
     "text": [
      " 33%|███▎      | 57/175 [47:58<1:34:00, 47.80s/it]"
     ]
    },
    {
     "name": "stdout",
     "output_type": "stream",
     "text": [
      "Prediction(scores=[[0.0017836132345062697, 0.005281162890320399, 0.009297013536689816, 0.01345035902910528, 0.01950432844350976, 0.03295727072916815]])\n",
      "(349, 512, 512)\n",
      "(349, 512, 512)\n",
      "(349, 512, 512)\n",
      "(349, 512, 512)\n",
      "(349, 512, 512)\n",
      "(349, 512, 512)\n"
     ]
    },
    {
     "name": "stderr",
     "output_type": "stream",
     "text": [
      " 33%|███▎      | 58/175 [48:52<1:36:34, 49.53s/it]"
     ]
    },
    {
     "name": "stdout",
     "output_type": "stream",
     "text": [
      "Prediction(scores=[[0.003950885877035175, 0.01567411799742145, 0.025373366947997893, 0.034918916130135036, 0.0435067212092039, 0.06389626510395803]])\n",
      "(310, 512, 512)\n",
      "(310, 512, 512)\n",
      "(310, 512, 512)\n",
      "(310, 512, 512)\n",
      "(310, 512, 512)\n",
      "(310, 512, 512)\n"
     ]
    },
    {
     "name": "stderr",
     "output_type": "stream",
     "text": [
      " 34%|███▎      | 59/175 [49:38<1:33:53, 48.56s/it]"
     ]
    },
    {
     "name": "stdout",
     "output_type": "stream",
     "text": [
      "Prediction(scores=[[0.0019649702414815395, 0.006792662605387028, 0.01361832965162377, 0.01728884468542021, 0.021685326042547536, 0.03595085191094143]])\n",
      "(313, 512, 512)\n",
      "(313, 512, 512)\n",
      "(313, 512, 512)\n",
      "(313, 512, 512)\n",
      "(313, 512, 512)\n",
      "(313, 512, 512)\n"
     ]
    },
    {
     "name": "stderr",
     "output_type": "stream",
     "text": [
      " 34%|███▍      | 60/175 [50:24<1:31:15, 47.62s/it]"
     ]
    },
    {
     "name": "stdout",
     "output_type": "stream",
     "text": [
      "Prediction(scores=[[0.0011701163019909324, 0.005281162890320399, 0.00904211839128372, 0.01324973354966939, 0.01922933035321872, 0.03295727072916815]])\n",
      "(348, 512, 512)\n",
      "(348, 512, 512)\n",
      "(348, 512, 512)\n",
      "(348, 512, 512)\n",
      "(348, 512, 512)\n",
      "(348, 512, 512)\n"
     ]
    },
    {
     "name": "stderr",
     "output_type": "stream",
     "text": [
      " 35%|███▍      | 61/175 [51:16<1:32:56, 48.92s/it]"
     ]
    },
    {
     "name": "stdout",
     "output_type": "stream",
     "text": [
      "Prediction(scores=[[0.0011701163019909324, 0.002554438672368111, 0.007834902850118133, 0.011038577845079741, 0.01844215956227956, 0.030460482782289466]])\n",
      "(333, 512, 512)\n",
      "(333, 512, 512)\n",
      "(333, 512, 512)\n",
      "(333, 512, 512)\n",
      "(333, 512, 512)\n",
      "(333, 512, 512)\n"
     ]
    },
    {
     "name": "stderr",
     "output_type": "stream",
     "text": [
      " 35%|███▌      | 62/175 [52:04<1:32:06, 48.90s/it]"
     ]
    },
    {
     "name": "stdout",
     "output_type": "stream",
     "text": [
      "Prediction(scores=[[0.0, 0.0, 0.0, 0.0, 0.002127659574468085, 0.002912621359223301]])\n",
      "(318, 512, 512)\n",
      "(318, 512, 512)\n",
      "(318, 512, 512)\n",
      "(318, 512, 512)\n",
      "(318, 512, 512)\n",
      "(318, 512, 512)\n"
     ]
    },
    {
     "name": "stderr",
     "output_type": "stream",
     "text": [
      " 36%|███▌      | 63/175 [52:54<1:31:22, 48.95s/it]"
     ]
    },
    {
     "name": "stdout",
     "output_type": "stream",
     "text": [
      "Prediction(scores=[[0.13112858046444384, 0.20156874039938555, 0.20700042081166153, 0.23647769720940454, 0.24838095238095237, 0.31155858404577313]])\n",
      "(310, 512, 512)\n",
      "(310, 512, 512)\n",
      "(310, 512, 512)\n",
      "(310, 512, 512)\n",
      "(310, 512, 512)\n",
      "(310, 512, 512)\n"
     ]
    },
    {
     "name": "stderr",
     "output_type": "stream",
     "text": [
      " 37%|███▋      | 64/175 [53:39<1:28:37, 47.90s/it]"
     ]
    },
    {
     "name": "stdout",
     "output_type": "stream",
     "text": [
      "Prediction(scores=[[0.0, 0.0020480077233631737, 0.006330933808853331, 0.010185026003509966, 0.014169944457552302, 0.022664209804468434]])\n",
      "(361, 512, 512)\n",
      "(361, 512, 512)\n",
      "(361, 512, 512)\n",
      "(361, 512, 512)\n",
      "(361, 512, 512)\n",
      "(361, 512, 512)\n"
     ]
    },
    {
     "name": "stderr",
     "output_type": "stream",
     "text": [
      " 37%|███▋      | 65/175 [54:29<1:28:56, 48.52s/it]"
     ]
    },
    {
     "name": "stdout",
     "output_type": "stream",
     "text": [
      "Prediction(scores=[[0.00042105263157894734, 0.002554438672368111, 0.007834902850118133, 0.011038577845079741, 0.01844215956227956, 0.030460482782289466]])\n",
      "(297, 512, 512)\n",
      "(297, 512, 512)\n",
      "(297, 512, 512)\n",
      "(297, 512, 512)\n",
      "(297, 512, 512)\n",
      "(297, 512, 512)\n"
     ]
    },
    {
     "name": "stderr",
     "output_type": "stream",
     "text": [
      " 38%|███▊      | 66/175 [55:12<1:25:12, 46.90s/it]"
     ]
    },
    {
     "name": "stdout",
     "output_type": "stream",
     "text": [
      "Prediction(scores=[[0.017993675365094892, 0.024063714534164626, 0.05203521397093823, 0.0698362343044828, 0.08181802539471743, 0.12581237757470526]])\n",
      "(370, 512, 512)\n",
      "(370, 512, 512)\n",
      "(370, 512, 512)\n",
      "(370, 512, 512)\n",
      "(370, 512, 512)\n",
      "(370, 512, 512)\n"
     ]
    },
    {
     "name": "stderr",
     "output_type": "stream",
     "text": [
      " 38%|███▊      | 67/175 [56:09<1:29:38, 49.80s/it]"
     ]
    },
    {
     "name": "stdout",
     "output_type": "stream",
     "text": [
      "Prediction(scores=[[0.0011701163019909324, 0.002554438672368111, 0.007834902850118133, 0.011038577845079741, 0.01844215956227956, 0.030889601556235824]])\n",
      "(298, 512, 512)\n",
      "(298, 512, 512)\n",
      "(298, 512, 512)\n",
      "(298, 512, 512)\n",
      "(298, 512, 512)\n",
      "(298, 512, 512)\n"
     ]
    },
    {
     "name": "stderr",
     "output_type": "stream",
     "text": [
      " 39%|███▉      | 68/175 [56:53<1:25:48, 48.11s/it]"
     ]
    },
    {
     "name": "stdout",
     "output_type": "stream",
     "text": [
      "Prediction(scores=[[0.0011701163019909324, 0.0020946685574255823, 0.007834902850118133, 0.011038577845079741, 0.01844215956227956, 0.030460482782289466]])\n",
      "(352, 512, 512)\n",
      "(352, 512, 512)\n",
      "(352, 512, 512)\n",
      "(352, 512, 512)\n",
      "(352, 512, 512)\n",
      "(352, 512, 512)\n"
     ]
    },
    {
     "name": "stderr",
     "output_type": "stream",
     "text": [
      " 39%|███▉      | 69/175 [57:44<1:26:32, 48.99s/it]"
     ]
    },
    {
     "name": "stdout",
     "output_type": "stream",
     "text": [
      "Prediction(scores=[[0.0017836132345062697, 0.005281162890320399, 0.00904211839128372, 0.01324973354966939, 0.01922933035321872, 0.03295727072916815]])\n",
      "(367, 512, 512)\n",
      "(367, 512, 512)\n",
      "(367, 512, 512)\n",
      "(367, 512, 512)\n",
      "(367, 512, 512)\n",
      "(367, 512, 512)\n"
     ]
    },
    {
     "name": "stderr",
     "output_type": "stream",
     "text": [
      " 40%|████      | 70/175 [58:36<1:27:29, 50.00s/it]"
     ]
    },
    {
     "name": "stdout",
     "output_type": "stream",
     "text": [
      "Prediction(scores=[[0.8381898620613999, 0.90364239654605, 0.9023570857381081, 0.9146799211779427, 0.9146798555892197, 0.9146798555892197]])\n",
      "(334, 512, 512)\n",
      "(334, 512, 512)\n",
      "(334, 512, 512)\n",
      "(334, 512, 512)\n",
      "(334, 512, 512)\n",
      "(334, 512, 512)\n"
     ]
    },
    {
     "name": "stderr",
     "output_type": "stream",
     "text": [
      " 41%|████      | 71/175 [59:25<1:26:17, 49.78s/it]"
     ]
    },
    {
     "name": "stdout",
     "output_type": "stream",
     "text": [
      "Prediction(scores=[[0.0, 0.0015740740740740743, 0.004032429807590649, 0.006847014817261502, 0.010381396771807386, 0.019111393468237536]])\n",
      "(325, 512, 512)\n",
      "(325, 512, 512)\n",
      "(325, 512, 512)\n",
      "(325, 512, 512)\n",
      "(325, 512, 512)\n",
      "(325, 512, 512)\n"
     ]
    },
    {
     "name": "stderr",
     "output_type": "stream",
     "text": [
      " 41%|████      | 72/175 [1:00:13<1:24:27, 49.20s/it]"
     ]
    },
    {
     "name": "stdout",
     "output_type": "stream",
     "text": [
      "Prediction(scores=[[0.02812232605712587, 0.0501870704618688, 0.07191945816622261, 0.07926975188037134, 0.09584583525781108, 0.13568094038444453]])\n",
      "(360, 512, 512)\n",
      "(360, 512, 512)\n",
      "(360, 512, 512)\n",
      "(360, 512, 512)\n",
      "(360, 512, 512)\n",
      "(360, 512, 512)\n"
     ]
    },
    {
     "name": "stderr",
     "output_type": "stream",
     "text": [
      " 42%|████▏     | 73/175 [1:01:03<1:23:50, 49.31s/it]"
     ]
    },
    {
     "name": "stdout",
     "output_type": "stream",
     "text": [
      "Prediction(scores=[[0.0011701163019909324, 0.002554438672368111, 0.007834902850118133, 0.012796834998944757, 0.01844215956227956, 0.030889601556235824]])\n",
      "(285, 512, 512)\n",
      "(285, 512, 512)\n",
      "(285, 512, 512)\n",
      "(285, 512, 512)\n",
      "(285, 512, 512)\n",
      "(285, 512, 512)\n"
     ]
    },
    {
     "name": "stderr",
     "output_type": "stream",
     "text": [
      " 42%|████▏     | 74/175 [1:01:49<1:21:27, 48.39s/it]"
     ]
    },
    {
     "name": "stdout",
     "output_type": "stream",
     "text": [
      "Prediction(scores=[[0.10532212885154062, 0.15208852858221725, 0.17797551335197145, 0.1977990953338717, 0.21197526094551264, 0.27659634556186286]])\n",
      "(285, 512, 512)\n",
      "(285, 512, 512)\n",
      "(285, 512, 512)\n",
      "(285, 512, 512)\n",
      "(285, 512, 512)\n",
      "(285, 512, 512)\n"
     ]
    },
    {
     "name": "stderr",
     "output_type": "stream",
     "text": [
      " 43%|████▎     | 75/175 [1:02:34<1:18:41, 47.21s/it]"
     ]
    },
    {
     "name": "stdout",
     "output_type": "stream",
     "text": [
      "Prediction(scores=[[0.0017836132345062697, 0.005281162890320399, 0.010996154998153504, 0.015721401064839158, 0.021112428503069026, 0.03410329084299056]])\n",
      "(376, 512, 512)\n",
      "(376, 512, 512)\n",
      "(376, 512, 512)\n",
      "(376, 512, 512)\n",
      "(376, 512, 512)\n",
      "(376, 512, 512)\n"
     ]
    },
    {
     "name": "stderr",
     "output_type": "stream",
     "text": [
      " 43%|████▎     | 76/175 [1:03:33<1:23:54, 50.86s/it]"
     ]
    },
    {
     "name": "stdout",
     "output_type": "stream",
     "text": [
      "Prediction(scores=[[0.0011701163019909324, 0.002554438672368111, 0.007834902850118133, 0.011038577845079741, 0.01844215956227956, 0.030889601556235824]])\n",
      "(357, 512, 512)\n",
      "(357, 512, 512)\n",
      "(357, 512, 512)\n",
      "(357, 512, 512)\n",
      "(357, 512, 512)\n",
      "(357, 512, 512)\n"
     ]
    },
    {
     "name": "stderr",
     "output_type": "stream",
     "text": [
      " 44%|████▍     | 77/175 [1:04:23<1:22:53, 50.75s/it]"
     ]
    },
    {
     "name": "stdout",
     "output_type": "stream",
     "text": [
      "Prediction(scores=[[0.0017836132345062697, 0.005281162890320399, 0.009297013536689816, 0.014397328726074975, 0.021112428503069026, 0.03410329084299056]])\n",
      "(330, 512, 512)\n",
      "(330, 512, 512)\n",
      "(330, 512, 512)\n",
      "(330, 512, 512)\n",
      "(330, 512, 512)\n",
      "(330, 512, 512)\n"
     ]
    },
    {
     "name": "stderr",
     "output_type": "stream",
     "text": [
      " 45%|████▍     | 78/175 [1:05:14<1:21:45, 50.57s/it]"
     ]
    },
    {
     "name": "stdout",
     "output_type": "stream",
     "text": [
      "Prediction(scores=[[0.0019649702414815395, 0.005733155166957225, 0.010996154998153504, 0.015721401064839158, 0.021112428503069026, 0.03410329084299056]])\n",
      "(367, 512, 512)\n",
      "(367, 512, 512)\n",
      "(367, 512, 512)\n",
      "(367, 512, 512)\n",
      "(367, 512, 512)\n",
      "(367, 512, 512)\n"
     ]
    },
    {
     "name": "stderr",
     "output_type": "stream",
     "text": [
      " 45%|████▌     | 79/175 [1:06:04<1:20:36, 50.38s/it]"
     ]
    },
    {
     "name": "stdout",
     "output_type": "stream",
     "text": [
      "Prediction(scores=[[0.13112858046444384, 0.20156874039938555, 0.219444865256106, 0.240922141653849, 0.2583809523809524, 0.31721341204269726]])\n",
      "(313, 512, 512)\n",
      "(313, 512, 512)\n",
      "(313, 512, 512)\n",
      "(313, 512, 512)\n",
      "(313, 512, 512)\n",
      "(313, 512, 512)\n"
     ]
    },
    {
     "name": "stderr",
     "output_type": "stream",
     "text": [
      " 46%|████▌     | 80/175 [1:06:49<1:17:23, 48.88s/it]"
     ]
    },
    {
     "name": "stdout",
     "output_type": "stream",
     "text": [
      "Prediction(scores=[[0.12612858046444383, 0.20156874039938555, 0.20700042081166153, 0.23647769720940454, 0.24838095238095237, 0.30763701541832217]])\n",
      "(348, 512, 512)\n",
      "(348, 512, 512)\n",
      "(348, 512, 512)\n",
      "(348, 512, 512)\n",
      "(348, 512, 512)\n",
      "(348, 512, 512)\n"
     ]
    },
    {
     "name": "stderr",
     "output_type": "stream",
     "text": [
      " 46%|████▋     | 81/175 [1:07:41<1:18:18, 49.98s/it]"
     ]
    },
    {
     "name": "stdout",
     "output_type": "stream",
     "text": [
      "Prediction(scores=[[0.0017836132345062697, 0.005281162890320399, 0.00904211839128372, 0.01324973354966939, 0.01922933035321872, 0.03295727072916815]])\n",
      "(360, 512, 512)\n",
      "(360, 512, 512)\n",
      "(360, 512, 512)\n",
      "(360, 512, 512)\n",
      "(360, 512, 512)\n",
      "(360, 512, 512)\n"
     ]
    },
    {
     "name": "stderr",
     "output_type": "stream",
     "text": [
      " 47%|████▋     | 82/175 [1:08:33<1:18:05, 50.39s/it]"
     ]
    },
    {
     "name": "stdout",
     "output_type": "stream",
     "text": [
      "Prediction(scores=[[0.0011701163019909324, 0.002554438672368111, 0.007834902850118133, 0.011038577845079741, 0.01844215956227956, 0.030889601556235824]])\n",
      "(312, 512, 512)\n",
      "(312, 512, 512)\n",
      "(312, 512, 512)\n",
      "(312, 512, 512)\n",
      "(312, 512, 512)\n",
      "(312, 512, 512)\n"
     ]
    },
    {
     "name": "stderr",
     "output_type": "stream",
     "text": [
      " 47%|████▋     | 83/175 [1:09:16<1:13:52, 48.18s/it]"
     ]
    },
    {
     "name": "stdout",
     "output_type": "stream",
     "text": [
      "Prediction(scores=[[0.0, 0.0015740740740740743, 0.004032429807590649, 0.006847014817261502, 0.010381396771807386, 0.019111393468237536]])\n",
      "(378, 512, 512)\n",
      "(378, 512, 512)\n",
      "(378, 512, 512)\n",
      "(378, 512, 512)\n",
      "(378, 512, 512)\n",
      "(378, 512, 512)\n"
     ]
    },
    {
     "name": "stderr",
     "output_type": "stream",
     "text": [
      " 48%|████▊     | 84/175 [1:10:13<1:17:07, 50.85s/it]"
     ]
    },
    {
     "name": "stdout",
     "output_type": "stream",
     "text": [
      "Prediction(scores=[[0.0019649702414815395, 0.010089723091537396, 0.01361832965162377, 0.01728884468542021, 0.021685326042547536, 0.03595085191094143]])\n",
      "(351, 512, 512)\n",
      "(351, 512, 512)\n",
      "(351, 512, 512)\n",
      "(351, 512, 512)\n",
      "(351, 512, 512)\n",
      "(351, 512, 512)\n"
     ]
    },
    {
     "name": "stderr",
     "output_type": "stream",
     "text": [
      " 49%|████▊     | 85/175 [1:10:59<1:14:03, 49.38s/it]"
     ]
    },
    {
     "name": "stdout",
     "output_type": "stream",
     "text": [
      "Prediction(scores=[[0.010938370464701579, 0.02384829677758669, 0.04224976132834274, 0.05607827138799744, 0.06831088053115783, 0.10530059801246243]])\n",
      "(360, 512, 512)\n",
      "(360, 512, 512)\n",
      "(360, 512, 512)\n",
      "(360, 512, 512)\n",
      "(360, 512, 512)\n",
      "(360, 512, 512)\n"
     ]
    },
    {
     "name": "stderr",
     "output_type": "stream",
     "text": [
      " 49%|████▉     | 86/175 [1:11:54<1:15:51, 51.14s/it]"
     ]
    },
    {
     "name": "stdout",
     "output_type": "stream",
     "text": [
      "Prediction(scores=[[0.006681809571814292, 0.01567411799742145, 0.027623961586583083, 0.038380454591673496, 0.05063982562434501, 0.07365175619388757]])\n",
      "(388, 512, 512)\n",
      "(388, 512, 512)\n",
      "(388, 512, 512)\n",
      "(388, 512, 512)\n",
      "(388, 512, 512)\n",
      "(388, 512, 512)\n"
     ]
    },
    {
     "name": "stderr",
     "output_type": "stream",
     "text": [
      " 50%|████▉     | 87/175 [1:12:50<1:17:06, 52.58s/it]"
     ]
    },
    {
     "name": "stdout",
     "output_type": "stream",
     "text": [
      "Prediction(scores=[[0.003950885877035175, 0.01567411799742145, 0.025373366947997893, 0.03400982522104413, 0.04060459092207825, 0.05885240545483521]])\n",
      "(313, 512, 512)\n",
      "(313, 512, 512)\n",
      "(313, 512, 512)\n",
      "(313, 512, 512)\n",
      "(313, 512, 512)\n",
      "(313, 512, 512)\n"
     ]
    },
    {
     "name": "stderr",
     "output_type": "stream",
     "text": [
      " 50%|█████     | 88/175 [1:13:35<1:12:59, 50.34s/it]"
     ]
    },
    {
     "name": "stdout",
     "output_type": "stream",
     "text": [
      "Prediction(scores=[[0.0019649702414815395, 0.006792662605387028, 0.01361832965162377, 0.01728884468542021, 0.021685326042547536, 0.03595085191094143]])\n",
      "(328, 512, 512)\n",
      "(328, 512, 512)\n",
      "(328, 512, 512)\n",
      "(328, 512, 512)\n",
      "(328, 512, 512)\n",
      "(328, 512, 512)\n"
     ]
    },
    {
     "name": "stderr",
     "output_type": "stream",
     "text": [
      " 51%|█████     | 89/175 [1:14:26<1:12:33, 50.62s/it]"
     ]
    },
    {
     "name": "stdout",
     "output_type": "stream",
     "text": [
      "Prediction(scores=[[0.0019649702414815395, 0.005733155166957225, 0.010996154998153504, 0.015721401064839158, 0.021112428503069026, 0.03595085191094143]])\n",
      "(304, 512, 512)\n",
      "(304, 512, 512)\n",
      "(304, 512, 512)\n",
      "(304, 512, 512)\n",
      "(304, 512, 512)\n",
      "(304, 512, 512)\n"
     ]
    },
    {
     "name": "stderr",
     "output_type": "stream",
     "text": [
      " 51%|█████▏    | 90/175 [1:15:10<1:08:51, 48.60s/it]"
     ]
    },
    {
     "name": "stdout",
     "output_type": "stream",
     "text": [
      "Prediction(scores=[[0.0017836132345062697, 0.005733155166957225, 0.010996154998153504, 0.015721401064839158, 0.021112428503069026, 0.03410329084299056]])\n",
      "(313, 512, 512)\n",
      "(313, 512, 512)\n",
      "(313, 512, 512)\n",
      "(313, 512, 512)\n",
      "(313, 512, 512)\n",
      "(313, 512, 512)\n"
     ]
    },
    {
     "name": "stderr",
     "output_type": "stream",
     "text": [
      " 52%|█████▏    | 91/175 [1:15:59<1:08:01, 48.59s/it]"
     ]
    },
    {
     "name": "stdout",
     "output_type": "stream",
     "text": [
      "Prediction(scores=[[0.002824125313654893, 0.011458655748540176, 0.015789607092415087, 0.024724898968273068, 0.0346411052158412, 0.05293135282325627]])\n",
      "(340, 512, 512)\n",
      "(340, 512, 512)\n",
      "(340, 512, 512)\n",
      "(340, 512, 512)\n",
      "(340, 512, 512)\n",
      "(340, 512, 512)\n"
     ]
    },
    {
     "name": "stderr",
     "output_type": "stream",
     "text": [
      " 53%|█████▎    | 92/175 [1:16:50<1:08:07, 49.25s/it]"
     ]
    },
    {
     "name": "stdout",
     "output_type": "stream",
     "text": [
      "Prediction(scores=[[0.0011701163019909324, 0.005281162890320399, 0.00904211839128372, 0.01324973354966939, 0.01922933035321872, 0.03295727072916815]])\n",
      "(316, 512, 512)\n",
      "(316, 512, 512)\n",
      "(316, 512, 512)\n",
      "(316, 512, 512)\n",
      "(316, 512, 512)\n",
      "(316, 512, 512)\n"
     ]
    },
    {
     "name": "stderr",
     "output_type": "stream",
     "text": [
      " 53%|█████▎    | 93/175 [1:17:41<1:08:11, 49.90s/it]"
     ]
    },
    {
     "name": "stdout",
     "output_type": "stream",
     "text": [
      "Prediction(scores=[[0.0017836132345062697, 0.005281162890320399, 0.009297013536689816, 0.013531549375422825, 0.019642318378498773, 0.0330556099090352]])\n",
      "(310, 512, 512)\n",
      "(310, 512, 512)\n",
      "(310, 512, 512)\n",
      "(310, 512, 512)\n",
      "(310, 512, 512)\n",
      "(310, 512, 512)\n"
     ]
    },
    {
     "name": "stderr",
     "output_type": "stream",
     "text": [
      " 54%|█████▎    | 94/175 [1:18:28<1:06:05, 48.95s/it]"
     ]
    },
    {
     "name": "stdout",
     "output_type": "stream",
     "text": [
      "Prediction(scores=[[0.0011701163019909324, 0.0038702281460523216, 0.007834902850118133, 0.012796834998944757, 0.01922933035321872, 0.03295727072916815]])\n",
      "(337, 512, 512)\n",
      "(337, 512, 512)\n",
      "(337, 512, 512)\n",
      "(337, 512, 512)\n",
      "(337, 512, 512)\n",
      "(337, 512, 512)\n"
     ]
    },
    {
     "name": "stderr",
     "output_type": "stream",
     "text": [
      " 54%|█████▍    | 95/175 [1:19:18<1:05:55, 49.44s/it]"
     ]
    },
    {
     "name": "stdout",
     "output_type": "stream",
     "text": [
      "Prediction(scores=[[0.0019649702414815395, 0.010089723091537396, 0.01470105163492759, 0.020079961732806583, 0.02795279050753524, 0.03883115914371293]])\n",
      "(346, 512, 512)\n",
      "(346, 512, 512)\n",
      "(346, 512, 512)\n",
      "(346, 512, 512)\n",
      "(346, 512, 512)\n",
      "(346, 512, 512)\n"
     ]
    },
    {
     "name": "stderr",
     "output_type": "stream",
     "text": [
      " 55%|█████▍    | 96/175 [1:20:09<1:05:38, 49.85s/it]"
     ]
    },
    {
     "name": "stdout",
     "output_type": "stream",
     "text": [
      "Prediction(scores=[[0.017993675365094892, 0.02968841762205061, 0.05203521397093823, 0.0698362343044828, 0.08181802539471743, 0.12581237757470526]])\n",
      "(328, 512, 512)\n",
      "(328, 512, 512)\n",
      "(328, 512, 512)\n",
      "(328, 512, 512)\n",
      "(328, 512, 512)\n",
      "(328, 512, 512)\n"
     ]
    },
    {
     "name": "stderr",
     "output_type": "stream",
     "text": [
      " 55%|█████▌    | 97/175 [1:20:55<1:03:03, 48.50s/it]"
     ]
    },
    {
     "name": "stdout",
     "output_type": "stream",
     "text": [
      "Prediction(scores=[[0.017993675365094892, 0.03787691097645158, 0.06398295022971467, 0.0698362343044828, 0.08181802539471743, 0.12581237757470526]])\n",
      "(301, 512, 512)\n",
      "(301, 512, 512)\n",
      "(301, 512, 512)\n",
      "(301, 512, 512)\n",
      "(301, 512, 512)\n",
      "(301, 512, 512)\n"
     ]
    },
    {
     "name": "stderr",
     "output_type": "stream",
     "text": [
      " 56%|█████▌    | 98/175 [1:21:39<1:00:36, 47.23s/it]"
     ]
    },
    {
     "name": "stdout",
     "output_type": "stream",
     "text": [
      "Prediction(scores=[[0.0, 0.0011166820962927836, 0.002419433832892546, 0.003265360522457683, 0.004117709325711866, 0.012448594113586859]])\n",
      "(373, 512, 512)\n",
      "(373, 512, 512)\n",
      "(373, 512, 512)\n",
      "(373, 512, 512)\n",
      "(373, 512, 512)\n",
      "(373, 512, 512)\n"
     ]
    },
    {
     "name": "stderr",
     "output_type": "stream",
     "text": [
      " 57%|█████▋    | 99/175 [1:22:33<1:02:22, 49.24s/it]"
     ]
    },
    {
     "name": "stdout",
     "output_type": "stream",
     "text": [
      "Prediction(scores=[[0.0011701163019909324, 0.0038702281460523216, 0.007834902850118133, 0.012796834998944757, 0.01922933035321872, 0.03295727072916815]])\n",
      "(333, 512, 512)\n",
      "(333, 512, 512)\n",
      "(333, 512, 512)\n",
      "(333, 512, 512)\n",
      "(333, 512, 512)\n",
      "(333, 512, 512)\n"
     ]
    },
    {
     "name": "stderr",
     "output_type": "stream",
     "text": [
      " 57%|█████▋    | 100/175 [1:23:17<59:31, 47.62s/it] "
     ]
    },
    {
     "name": "stdout",
     "output_type": "stream",
     "text": [
      "Prediction(scores=[[0.003950885877035175, 0.01567411799742145, 0.02732860013413091, 0.038380454591673496, 0.04576803075255014, 0.06831842286055423]])\n",
      "(322, 512, 512)\n",
      "(322, 512, 512)\n",
      "(322, 512, 512)\n",
      "(322, 512, 512)\n",
      "(322, 512, 512)\n",
      "(322, 512, 512)\n"
     ]
    },
    {
     "name": "stderr",
     "output_type": "stream",
     "text": [
      " 58%|█████▊    | 101/175 [1:24:03<58:20, 47.30s/it]"
     ]
    },
    {
     "name": "stdout",
     "output_type": "stream",
     "text": [
      "Prediction(scores=[[0.00042105263157894734, 0.0020480077233631737, 0.005017651482467496, 0.008837064568505281, 0.012386409303135709, 0.021661887350000762]])\n",
      "(352, 512, 512)\n",
      "(352, 512, 512)\n",
      "(352, 512, 512)\n",
      "(352, 512, 512)\n",
      "(352, 512, 512)\n",
      "(352, 512, 512)\n"
     ]
    },
    {
     "name": "stderr",
     "output_type": "stream",
     "text": [
      " 58%|█████▊    | 102/175 [1:24:55<59:14, 48.69s/it]"
     ]
    },
    {
     "name": "stdout",
     "output_type": "stream",
     "text": [
      "Prediction(scores=[[0.0017836132345062697, 0.005281162890320399, 0.009297013536689816, 0.014397328726074975, 0.021112428503069026, 0.03410329084299056]])\n",
      "(328, 512, 512)\n",
      "(328, 512, 512)\n",
      "(328, 512, 512)\n",
      "(328, 512, 512)\n",
      "(328, 512, 512)\n",
      "(328, 512, 512)\n"
     ]
    },
    {
     "name": "stderr",
     "output_type": "stream",
     "text": [
      " 59%|█████▉    | 103/175 [1:25:43<58:18, 48.59s/it]"
     ]
    },
    {
     "name": "stdout",
     "output_type": "stream",
     "text": [
      "Prediction(scores=[[0.0011701163019909324, 0.002554438672368111, 0.007834902850118133, 0.011038577845079741, 0.01844215956227956, 0.030889601556235824]])\n",
      "(351, 512, 512)\n",
      "(351, 512, 512)\n",
      "(351, 512, 512)\n",
      "(351, 512, 512)\n",
      "(351, 512, 512)\n",
      "(351, 512, 512)\n"
     ]
    },
    {
     "name": "stderr",
     "output_type": "stream",
     "text": [
      " 59%|█████▉    | 104/175 [1:26:31<57:12, 48.34s/it]"
     ]
    },
    {
     "name": "stdout",
     "output_type": "stream",
     "text": [
      "Prediction(scores=[[0.04341054660850431, 0.06931846588905181, 0.09072459188594703, 0.13363181230188903, 0.139194847020934, 0.19465011361563084]])\n",
      "(345, 512, 512)\n",
      "(345, 512, 512)\n",
      "(345, 512, 512)\n",
      "(345, 512, 512)\n",
      "(345, 512, 512)\n",
      "(345, 512, 512)\n"
     ]
    },
    {
     "name": "stderr",
     "output_type": "stream",
     "text": [
      " 60%|██████    | 105/175 [1:27:23<57:44, 49.49s/it]"
     ]
    },
    {
     "name": "stdout",
     "output_type": "stream",
     "text": [
      "Prediction(scores=[[0.0017836132345062697, 0.005281162890320399, 0.009297013536689816, 0.01345035902910528, 0.01950432844350976, 0.03295727072916815]])\n",
      "(399, 512, 512)\n",
      "(399, 512, 512)\n",
      "(399, 512, 512)\n",
      "(399, 512, 512)\n",
      "(399, 512, 512)\n",
      "(399, 512, 512)\n"
     ]
    },
    {
     "name": "stderr",
     "output_type": "stream",
     "text": [
      " 61%|██████    | 106/175 [1:28:20<59:29, 51.73s/it]"
     ]
    },
    {
     "name": "stdout",
     "output_type": "stream",
     "text": [
      "Prediction(scores=[[0.0017836132345062697, 0.005281162890320399, 0.00904211839128372, 0.01324973354966939, 0.01922933035321872, 0.03295727072916815]])\n",
      "(321, 512, 512)\n",
      "(321, 512, 512)\n",
      "(321, 512, 512)\n",
      "(321, 512, 512)\n",
      "(321, 512, 512)\n",
      "(321, 512, 512)\n"
     ]
    },
    {
     "name": "stderr",
     "output_type": "stream",
     "text": [
      " 61%|██████    | 107/175 [1:29:09<57:25, 50.66s/it]"
     ]
    },
    {
     "name": "stdout",
     "output_type": "stream",
     "text": [
      "Prediction(scores=[[0.00042105263157894734, 0.0015740740740740743, 0.004032429807590649, 0.006847014817261502, 0.010381396771807386, 0.019111393468237536]])\n",
      "(379, 512, 512)\n",
      "(379, 512, 512)\n",
      "(379, 512, 512)\n",
      "(379, 512, 512)\n",
      "(379, 512, 512)\n",
      "(379, 512, 512)\n"
     ]
    },
    {
     "name": "stderr",
     "output_type": "stream",
     "text": [
      " 62%|██████▏   | 108/175 [1:30:05<58:29, 52.38s/it]"
     ]
    },
    {
     "name": "stdout",
     "output_type": "stream",
     "text": [
      "Prediction(scores=[[0.0019649702414815395, 0.010089723091537396, 0.01470105163492759, 0.020079961732806583, 0.02795279050753524, 0.03883115914371293]])\n",
      "(310, 512, 512)\n",
      "(310, 512, 512)\n",
      "(310, 512, 512)\n",
      "(310, 512, 512)\n",
      "(310, 512, 512)\n",
      "(310, 512, 512)\n"
     ]
    },
    {
     "name": "stderr",
     "output_type": "stream",
     "text": [
      " 62%|██████▏   | 109/175 [1:30:51<55:40, 50.62s/it]"
     ]
    },
    {
     "name": "stdout",
     "output_type": "stream",
     "text": [
      "Prediction(scores=[[0.010900917281180979, 0.02384829677758669, 0.03623114203667281, 0.04591641456665786, 0.05377927794134665, 0.08312354442405184]])\n",
      "(321, 512, 512)\n",
      "(321, 512, 512)\n",
      "(321, 512, 512)\n",
      "(321, 512, 512)\n",
      "(321, 512, 512)\n",
      "(321, 512, 512)\n"
     ]
    },
    {
     "name": "stderr",
     "output_type": "stream",
     "text": [
      " 63%|██████▎   | 110/175 [1:31:40<54:04, 49.92s/it]"
     ]
    },
    {
     "name": "stdout",
     "output_type": "stream",
     "text": [
      "Prediction(scores=[[0.010938370464701579, 0.02384829677758669, 0.04224976132834274, 0.05607827138799744, 0.06831088053115783, 0.10530059801246243]])\n",
      "(315, 512, 512)\n",
      "(315, 512, 512)\n",
      "(315, 512, 512)\n",
      "(315, 512, 512)\n",
      "(315, 512, 512)\n",
      "(315, 512, 512)\n"
     ]
    },
    {
     "name": "stderr",
     "output_type": "stream",
     "text": [
      " 63%|██████▎   | 111/175 [1:32:26<52:11, 48.94s/it]"
     ]
    },
    {
     "name": "stdout",
     "output_type": "stream",
     "text": [
      "Prediction(scores=[[0.0011701163019909324, 0.002554438672368111, 0.007834902850118133, 0.011038577845079741, 0.01844215956227956, 0.030460482782289466]])\n",
      "(333, 512, 512)\n",
      "(333, 512, 512)\n",
      "(333, 512, 512)\n",
      "(333, 512, 512)\n",
      "(333, 512, 512)\n",
      "(333, 512, 512)\n"
     ]
    },
    {
     "name": "stderr",
     "output_type": "stream",
     "text": [
      " 64%|██████▍   | 112/175 [1:33:14<51:02, 48.62s/it]"
     ]
    },
    {
     "name": "stdout",
     "output_type": "stream",
     "text": [
      "Prediction(scores=[[0.14199966281348836, 0.22076599209509268, 0.25062898857142857, 0.2843780456807731, 0.3139732123682105, 0.3718018077470312]])\n",
      "(331, 512, 512)\n",
      "(331, 512, 512)\n",
      "(331, 512, 512)\n",
      "(331, 512, 512)\n",
      "(331, 512, 512)\n",
      "(331, 512, 512)\n"
     ]
    },
    {
     "name": "stderr",
     "output_type": "stream",
     "text": [
      " 65%|██████▍   | 113/175 [1:34:03<50:15, 48.64s/it]"
     ]
    },
    {
     "name": "stdout",
     "output_type": "stream",
     "text": [
      "Prediction(scores=[[0.03388673708469479, 0.0667378207277615, 0.09072459188594703, 0.1095048281749049, 0.12106984702093397, 0.16495823686493055]])\n",
      "(325, 512, 512)\n",
      "(325, 512, 512)\n",
      "(325, 512, 512)\n",
      "(325, 512, 512)\n",
      "(325, 512, 512)\n",
      "(325, 512, 512)\n"
     ]
    },
    {
     "name": "stderr",
     "output_type": "stream",
     "text": [
      " 65%|██████▌   | 114/175 [1:34:48<48:22, 47.59s/it]"
     ]
    },
    {
     "name": "stdout",
     "output_type": "stream",
     "text": [
      "Prediction(scores=[[0.003950885877035175, 0.01567411799742145, 0.025373366947997893, 0.034918916130135036, 0.0435067212092039, 0.06389626510395803]])\n",
      "(325, 512, 512)\n",
      "(325, 512, 512)\n",
      "(325, 512, 512)\n",
      "(325, 512, 512)\n",
      "(325, 512, 512)\n",
      "(325, 512, 512)\n"
     ]
    },
    {
     "name": "stderr",
     "output_type": "stream",
     "text": [
      " 66%|██████▌   | 115/175 [1:35:41<49:06, 49.11s/it]"
     ]
    },
    {
     "name": "stdout",
     "output_type": "stream",
     "text": [
      "Prediction(scores=[[0.25563025210084034, 0.33992633828160146, 0.3542346542346542, 0.377972027972028, 0.4032527472527473, 0.4433155080213904]])\n",
      "(370, 512, 512)\n",
      "(370, 512, 512)\n",
      "(370, 512, 512)\n",
      "(370, 512, 512)\n",
      "(370, 512, 512)\n",
      "(370, 512, 512)\n"
     ]
    },
    {
     "name": "stderr",
     "output_type": "stream",
     "text": [
      " 66%|██████▋   | 116/175 [1:36:36<50:01, 50.87s/it]"
     ]
    },
    {
     "name": "stdout",
     "output_type": "stream",
     "text": [
      "Prediction(scores=[[0.003950885877035175, 0.01567411799742145, 0.025815629302205212, 0.034918916130135036, 0.04404670851097439, 0.06467442661875958]])\n",
      "(307, 512, 512)\n",
      "(307, 512, 512)\n",
      "(307, 512, 512)\n",
      "(307, 512, 512)\n",
      "(307, 512, 512)\n",
      "(307, 512, 512)\n"
     ]
    },
    {
     "name": "stderr",
     "output_type": "stream",
     "text": [
      " 67%|██████▋   | 117/175 [1:37:22<47:51, 49.51s/it]"
     ]
    },
    {
     "name": "stdout",
     "output_type": "stream",
     "text": [
      "Prediction(scores=[[0.0017836132345062697, 0.005281162890320399, 0.00904211839128372, 0.01324973354966939, 0.01922933035321872, 0.03295727072916815]])\n",
      "(384, 512, 512)\n",
      "(384, 512, 512)\n",
      "(384, 512, 512)\n",
      "(384, 512, 512)\n",
      "(384, 512, 512)\n",
      "(384, 512, 512)\n"
     ]
    },
    {
     "name": "stderr",
     "output_type": "stream",
     "text": [
      " 67%|██████▋   | 118/175 [1:38:14<47:48, 50.33s/it]"
     ]
    },
    {
     "name": "stdout",
     "output_type": "stream",
     "text": [
      "Prediction(scores=[[0.010900917281180979, 0.02384829677758669, 0.03815429263238978, 0.05187568518110088, 0.0581350544885179, 0.09204192431900612]])\n",
      "(319, 512, 512)\n",
      "(319, 512, 512)\n",
      "(319, 512, 512)\n",
      "(319, 512, 512)\n",
      "(319, 512, 512)\n",
      "(319, 512, 512)\n"
     ]
    },
    {
     "name": "stderr",
     "output_type": "stream",
     "text": [
      " 68%|██████▊   | 119/175 [1:39:02<46:07, 49.42s/it]"
     ]
    },
    {
     "name": "stdout",
     "output_type": "stream",
     "text": [
      "Prediction(scores=[[0.00042105263157894734, 0.0020480077233631737, 0.005017651482467496, 0.008837064568505281, 0.012386409303135709, 0.021661887350000762]])\n",
      "(333, 512, 512)\n",
      "(333, 512, 512)\n",
      "(333, 512, 512)\n",
      "(333, 512, 512)\n",
      "(333, 512, 512)\n",
      "(333, 512, 512)\n"
     ]
    },
    {
     "name": "stderr",
     "output_type": "stream",
     "text": [
      " 69%|██████▊   | 120/175 [1:39:53<45:51, 50.02s/it]"
     ]
    },
    {
     "name": "stdout",
     "output_type": "stream",
     "text": [
      "Prediction(scores=[[0.017993675365094892, 0.03787691097645158, 0.06398295022971467, 0.0698362343044828, 0.08181802539471743, 0.12581237757470526]])\n",
      "(375, 512, 512)\n",
      "(375, 512, 512)\n",
      "(375, 512, 512)\n",
      "(375, 512, 512)\n",
      "(375, 512, 512)\n",
      "(375, 512, 512)\n"
     ]
    },
    {
     "name": "stderr",
     "output_type": "stream",
     "text": [
      " 69%|██████▉   | 121/175 [1:40:48<46:21, 51.51s/it]"
     ]
    },
    {
     "name": "stdout",
     "output_type": "stream",
     "text": [
      "Prediction(scores=[[0.00042105263157894734, 0.0015740740740740743, 0.004032429807590649, 0.006847014817261502, 0.010381396771807386, 0.019111393468237536]])\n",
      "(370, 512, 512)\n",
      "(370, 512, 512)\n",
      "(370, 512, 512)\n",
      "(370, 512, 512)\n",
      "(370, 512, 512)\n",
      "(370, 512, 512)\n"
     ]
    },
    {
     "name": "stderr",
     "output_type": "stream",
     "text": [
      " 70%|██████▉   | 122/175 [1:41:46<47:06, 53.34s/it]"
     ]
    },
    {
     "name": "stdout",
     "output_type": "stream",
     "text": [
      "Prediction(scores=[[0.0011701163019909324, 0.002554438672368111, 0.007834902850118133, 0.011038577845079741, 0.01844215956227956, 0.030889601556235824]])\n",
      "(313, 512, 512)\n",
      "(313, 512, 512)\n",
      "(313, 512, 512)\n",
      "(313, 512, 512)\n",
      "(313, 512, 512)\n",
      "(313, 512, 512)\n"
     ]
    },
    {
     "name": "stderr",
     "output_type": "stream",
     "text": [
      " 70%|███████   | 123/175 [1:42:32<44:23, 51.22s/it]"
     ]
    },
    {
     "name": "stdout",
     "output_type": "stream",
     "text": [
      "Prediction(scores=[[0.13112858046444384, 0.20156874039938555, 0.20700042081166153, 0.23647769720940454, 0.24838095238095237, 0.31155858404577313]])\n",
      "(325, 512, 512)\n",
      "(325, 512, 512)\n",
      "(325, 512, 512)\n",
      "(325, 512, 512)\n",
      "(325, 512, 512)\n",
      "(325, 512, 512)\n"
     ]
    },
    {
     "name": "stderr",
     "output_type": "stream",
     "text": [
      " 71%|███████   | 124/175 [1:43:23<43:23, 51.06s/it]"
     ]
    },
    {
     "name": "stdout",
     "output_type": "stream",
     "text": [
      "Prediction(scores=[[0.003950885877035175, 0.01567411799742145, 0.025373366947997893, 0.034918916130135036, 0.0435067212092039, 0.06389626510395803]])\n",
      "(351, 512, 512)\n",
      "(351, 512, 512)\n",
      "(351, 512, 512)\n",
      "(351, 512, 512)\n",
      "(351, 512, 512)\n",
      "(351, 512, 512)\n"
     ]
    },
    {
     "name": "stderr",
     "output_type": "stream",
     "text": [
      " 71%|███████▏  | 125/175 [1:44:14<42:40, 51.20s/it]"
     ]
    },
    {
     "name": "stdout",
     "output_type": "stream",
     "text": [
      "Prediction(scores=[[0.003950885877035175, 0.01567411799742145, 0.025373366947997893, 0.03400982522104413, 0.04060459092207825, 0.05885240545483521]])\n",
      "(273, 512, 512)\n",
      "(273, 512, 512)\n",
      "(273, 512, 512)\n",
      "(273, 512, 512)\n",
      "(273, 512, 512)\n",
      "(273, 512, 512)\n"
     ]
    },
    {
     "name": "stderr",
     "output_type": "stream",
     "text": [
      " 72%|███████▏  | 126/175 [1:44:55<39:17, 48.11s/it]"
     ]
    },
    {
     "name": "stdout",
     "output_type": "stream",
     "text": [
      "Prediction(scores=[[0.0017836132345062697, 0.005281162890320399, 0.009297013536689816, 0.014397328726074975, 0.021112428503069026, 0.03410329084299056]])\n",
      "(292, 512, 512)\n",
      "(292, 512, 512)\n",
      "(292, 512, 512)\n",
      "(292, 512, 512)\n",
      "(292, 512, 512)\n",
      "(292, 512, 512)\n"
     ]
    },
    {
     "name": "stderr",
     "output_type": "stream",
     "text": [
      " 73%|███████▎  | 127/175 [1:45:42<38:12, 47.75s/it]"
     ]
    },
    {
     "name": "stdout",
     "output_type": "stream",
     "text": [
      "Prediction(scores=[[0.0011701163019909324, 0.002554438672368111, 0.007834902850118133, 0.011038577845079741, 0.01844215956227956, 0.030889601556235824]])\n",
      "(369, 512, 512)\n",
      "(369, 512, 512)\n",
      "(369, 512, 512)\n",
      "(369, 512, 512)\n",
      "(369, 512, 512)\n",
      "(369, 512, 512)\n"
     ]
    },
    {
     "name": "stderr",
     "output_type": "stream",
     "text": [
      " 73%|███████▎  | 128/175 [1:46:37<39:11, 50.04s/it]"
     ]
    },
    {
     "name": "stdout",
     "output_type": "stream",
     "text": [
      "Prediction(scores=[[0.0017836132345062697, 0.005281162890320399, 0.009297013536689816, 0.01345035902910528, 0.01950432844350976, 0.03295727072916815]])\n",
      "(331, 512, 512)\n",
      "(331, 512, 512)\n",
      "(331, 512, 512)\n",
      "(331, 512, 512)\n",
      "(331, 512, 512)\n",
      "(331, 512, 512)\n"
     ]
    },
    {
     "name": "stderr",
     "output_type": "stream",
     "text": [
      " 74%|███████▎  | 129/175 [1:47:27<38:23, 50.07s/it]"
     ]
    },
    {
     "name": "stdout",
     "output_type": "stream",
     "text": [
      "Prediction(scores=[[0.13112858046444384, 0.20156874039938555, 0.20700042081166153, 0.23647769720940454, 0.24838095238095237, 0.31155858404577313]])\n",
      "(348, 512, 512)\n",
      "(348, 512, 512)\n",
      "(348, 512, 512)\n",
      "(348, 512, 512)\n",
      "(348, 512, 512)\n",
      "(348, 512, 512)\n"
     ]
    },
    {
     "name": "stderr",
     "output_type": "stream",
     "text": [
      " 74%|███████▍  | 130/175 [1:48:17<37:25, 49.90s/it]"
     ]
    },
    {
     "name": "stdout",
     "output_type": "stream",
     "text": [
      "Prediction(scores=[[0.0017836132345062697, 0.005281162890320399, 0.00904211839128372, 0.01324973354966939, 0.01950432844350976, 0.03295727072916815]])\n",
      "(307, 512, 512)\n",
      "(307, 512, 512)\n",
      "(307, 512, 512)\n",
      "(307, 512, 512)\n",
      "(307, 512, 512)\n",
      "(307, 512, 512)\n"
     ]
    },
    {
     "name": "stderr",
     "output_type": "stream",
     "text": [
      " 75%|███████▍  | 131/175 [1:49:01<35:19, 48.17s/it]"
     ]
    },
    {
     "name": "stdout",
     "output_type": "stream",
     "text": [
      "Prediction(scores=[[0.0011701163019909324, 0.002554438672368111, 0.007834902850118133, 0.011038577845079741, 0.01844215956227956, 0.030889601556235824]])\n",
      "(340, 512, 512)\n",
      "(340, 512, 512)\n",
      "(340, 512, 512)\n",
      "(340, 512, 512)\n",
      "(340, 512, 512)\n",
      "(340, 512, 512)\n"
     ]
    },
    {
     "name": "stderr",
     "output_type": "stream",
     "text": [
      " 75%|███████▌  | 132/175 [1:49:50<34:47, 48.55s/it]"
     ]
    },
    {
     "name": "stdout",
     "output_type": "stream",
     "text": [
      "Prediction(scores=[[0.0019649702414815395, 0.010089723091537396, 0.01470105163492759, 0.019911954034543676, 0.02792261032641094, 0.03883115914371293]])\n",
      "(366, 512, 512)\n",
      "(366, 512, 512)\n",
      "(366, 512, 512)\n",
      "(366, 512, 512)\n",
      "(366, 512, 512)\n",
      "(366, 512, 512)\n"
     ]
    },
    {
     "name": "stderr",
     "output_type": "stream",
     "text": [
      " 76%|███████▌  | 133/175 [1:50:40<34:13, 48.90s/it]"
     ]
    },
    {
     "name": "stdout",
     "output_type": "stream",
     "text": [
      "Prediction(scores=[[0.0, 0.0015740740740740743, 0.004032429807590649, 0.006847014817261502, 0.010381396771807386, 0.019111393468237536]])\n",
      "(310, 512, 512)\n",
      "(310, 512, 512)\n",
      "(310, 512, 512)\n",
      "(310, 512, 512)\n",
      "(310, 512, 512)\n",
      "(310, 512, 512)\n"
     ]
    },
    {
     "name": "stderr",
     "output_type": "stream",
     "text": [
      " 77%|███████▋  | 134/175 [1:51:26<32:51, 48.09s/it]"
     ]
    },
    {
     "name": "stdout",
     "output_type": "stream",
     "text": [
      "Prediction(scores=[[0.00042105263157894734, 0.0020480077233631737, 0.005017651482467496, 0.008837064568505281, 0.012386409303135709, 0.021661887350000762]])\n",
      "(319, 512, 512)\n",
      "(319, 512, 512)\n",
      "(319, 512, 512)\n",
      "(319, 512, 512)\n",
      "(319, 512, 512)\n",
      "(319, 512, 512)\n"
     ]
    },
    {
     "name": "stderr",
     "output_type": "stream",
     "text": [
      " 77%|███████▋  | 135/175 [1:52:12<31:38, 47.46s/it]"
     ]
    },
    {
     "name": "stdout",
     "output_type": "stream",
     "text": [
      "Prediction(scores=[[0.0, 0.0015740740740740743, 0.0029513487265095673, 0.006847014817261502, 0.010381396771807386, 0.01728707626903897]])\n",
      "(364, 512, 512)\n",
      "(364, 512, 512)\n",
      "(364, 512, 512)\n",
      "(364, 512, 512)\n",
      "(364, 512, 512)\n",
      "(364, 512, 512)\n"
     ]
    },
    {
     "name": "stderr",
     "output_type": "stream",
     "text": [
      " 78%|███████▊  | 136/175 [1:53:08<32:31, 50.05s/it]"
     ]
    },
    {
     "name": "stdout",
     "output_type": "stream",
     "text": [
      "Prediction(scores=[[0.003950885877035175, 0.01567411799742145, 0.025373366947997893, 0.03400982522104413, 0.04010126005605308, 0.05885240545483521]])\n",
      "(385, 512, 512)\n",
      "(385, 512, 512)\n",
      "(385, 512, 512)\n",
      "(385, 512, 512)\n",
      "(385, 512, 512)\n",
      "(385, 512, 512)\n"
     ]
    },
    {
     "name": "stderr",
     "output_type": "stream",
     "text": [
      " 78%|███████▊  | 137/175 [1:54:03<32:38, 51.53s/it]"
     ]
    },
    {
     "name": "stdout",
     "output_type": "stream",
     "text": [
      "Prediction(scores=[[0.0, 0.0018694435997387564, 0.004032429807590649, 0.006847014817261502, 0.010381396771807386, 0.019111393468237536]])\n",
      "(328, 512, 512)\n",
      "(328, 512, 512)\n",
      "(328, 512, 512)\n",
      "(328, 512, 512)\n",
      "(328, 512, 512)\n",
      "(328, 512, 512)\n"
     ]
    },
    {
     "name": "stderr",
     "output_type": "stream",
     "text": [
      " 79%|███████▉  | 138/175 [1:54:51<31:07, 50.46s/it]"
     ]
    },
    {
     "name": "stdout",
     "output_type": "stream",
     "text": [
      "Prediction(scores=[[0.012096924141240866, 0.024063714534164626, 0.05203521397093823, 0.0627928598516376, 0.07943707301376506, 0.12394902353743817]])\n",
      "(336, 512, 512)\n",
      "(336, 512, 512)\n",
      "(336, 512, 512)\n",
      "(336, 512, 512)\n",
      "(336, 512, 512)\n",
      "(336, 512, 512)\n"
     ]
    },
    {
     "name": "stderr",
     "output_type": "stream",
     "text": [
      " 79%|███████▉  | 139/175 [1:55:39<29:50, 49.73s/it]"
     ]
    },
    {
     "name": "stdout",
     "output_type": "stream",
     "text": [
      "Prediction(scores=[[0.00042105263157894734, 0.0020480077233631737, 0.0075383315675573905, 0.010881042215231361, 0.015975258804434206, 0.02959861298629325]])\n",
      "(315, 512, 512)\n",
      "(315, 512, 512)\n",
      "(315, 512, 512)\n",
      "(315, 512, 512)\n",
      "(315, 512, 512)\n",
      "(315, 512, 512)\n"
     ]
    },
    {
     "name": "stderr",
     "output_type": "stream",
     "text": [
      " 80%|████████  | 140/175 [1:56:30<29:11, 50.03s/it]"
     ]
    },
    {
     "name": "stdout",
     "output_type": "stream",
     "text": [
      "Prediction(scores=[[0.0011701163019909324, 0.005281162890320399, 0.00904211839128372, 0.01324973354966939, 0.01922933035321872, 0.03295727072916815]])\n",
      "(309, 512, 512)\n",
      "(309, 512, 512)\n",
      "(309, 512, 512)\n",
      "(309, 512, 512)\n",
      "(309, 512, 512)\n",
      "(309, 512, 512)\n"
     ]
    },
    {
     "name": "stderr",
     "output_type": "stream",
     "text": [
      " 81%|████████  | 141/175 [1:57:12<27:00, 47.67s/it]"
     ]
    },
    {
     "name": "stdout",
     "output_type": "stream",
     "text": [
      "Prediction(scores=[[0.0019649702414815395, 0.006792662605387028, 0.01361832965162377, 0.01728884468542021, 0.021685326042547536, 0.03595085191094143]])\n",
      "(315, 512, 512)\n",
      "(315, 512, 512)\n",
      "(315, 512, 512)\n",
      "(315, 512, 512)\n",
      "(315, 512, 512)\n",
      "(315, 512, 512)\n"
     ]
    },
    {
     "name": "stderr",
     "output_type": "stream",
     "text": [
      " 81%|████████  | 142/175 [1:58:00<26:14, 47.71s/it]"
     ]
    },
    {
     "name": "stdout",
     "output_type": "stream",
     "text": [
      "Prediction(scores=[[0.1427590939668105, 0.2227632088727697, 0.2527924426987263, 0.2867942642362955, 0.3177455364628598, 0.3752411164572991]])\n",
      "(349, 512, 512)\n",
      "(349, 512, 512)\n",
      "(349, 512, 512)\n",
      "(349, 512, 512)\n",
      "(349, 512, 512)\n",
      "(349, 512, 512)\n"
     ]
    },
    {
     "name": "stderr",
     "output_type": "stream",
     "text": [
      " 82%|████████▏ | 143/175 [1:58:53<26:13, 49.16s/it]"
     ]
    },
    {
     "name": "stdout",
     "output_type": "stream",
     "text": [
      "Prediction(scores=[[0.04341054660850431, 0.06931846588905181, 0.09072459188594703, 0.1095048281749049, 0.12106984702093397, 0.16495823686493055]])\n",
      "(321, 512, 512)\n",
      "(321, 512, 512)\n",
      "(321, 512, 512)\n",
      "(321, 512, 512)\n",
      "(321, 512, 512)\n",
      "(321, 512, 512)\n"
     ]
    },
    {
     "name": "stderr",
     "output_type": "stream",
     "text": [
      " 82%|████████▏ | 144/175 [1:59:38<24:43, 47.85s/it]"
     ]
    },
    {
     "name": "stdout",
     "output_type": "stream",
     "text": [
      "Prediction(scores=[[0.0, 0.0015740740740740743, 0.004032429807590649, 0.006847014817261502, 0.010381396771807386, 0.019111393468237536]])\n",
      "(315, 512, 512)\n",
      "(315, 512, 512)\n",
      "(315, 512, 512)\n",
      "(315, 512, 512)\n",
      "(315, 512, 512)\n",
      "(315, 512, 512)\n"
     ]
    },
    {
     "name": "stderr",
     "output_type": "stream",
     "text": [
      " 83%|████████▎ | 145/175 [2:00:29<24:31, 49.05s/it]"
     ]
    },
    {
     "name": "stdout",
     "output_type": "stream",
     "text": [
      "Prediction(scores=[[0.00042105263157894734, 0.0015740740740740743, 0.004032429807590649, 0.006847014817261502, 0.010381396771807386, 0.019111393468237536]])\n",
      "(321, 512, 512)\n",
      "(321, 512, 512)\n",
      "(321, 512, 512)\n",
      "(321, 512, 512)\n",
      "(321, 512, 512)\n",
      "(321, 512, 512)\n"
     ]
    },
    {
     "name": "stderr",
     "output_type": "stream",
     "text": [
      " 83%|████████▎ | 146/175 [2:01:17<23:27, 48.55s/it]"
     ]
    },
    {
     "name": "stdout",
     "output_type": "stream",
     "text": [
      "Prediction(scores=[[0.00042105263157894734, 0.0020480077233631737, 0.006330933808853331, 0.010185026003509966, 0.014169944457552302, 0.022664209804468434]])\n",
      "(253, 512, 512)\n",
      "(253, 512, 512)\n",
      "(253, 512, 512)\n",
      "(253, 512, 512)\n",
      "(253, 512, 512)\n",
      "(253, 512, 512)\n"
     ]
    },
    {
     "name": "stderr",
     "output_type": "stream",
     "text": [
      " 84%|████████▍ | 147/175 [2:01:57<21:25, 45.93s/it]"
     ]
    },
    {
     "name": "stdout",
     "output_type": "stream",
     "text": [
      "Prediction(scores=[[0.0019649702414815395, 0.005733155166957225, 0.010996154998153504, 0.015721401064839158, 0.021112428503069026, 0.03410329084299056]])\n",
      "(321, 512, 512)\n",
      "(321, 512, 512)\n",
      "(321, 512, 512)\n",
      "(321, 512, 512)\n",
      "(321, 512, 512)\n",
      "(321, 512, 512)\n"
     ]
    },
    {
     "name": "stderr",
     "output_type": "stream",
     "text": [
      " 85%|████████▍ | 148/175 [2:02:44<20:53, 46.42s/it]"
     ]
    },
    {
     "name": "stdout",
     "output_type": "stream",
     "text": [
      "Prediction(scores=[[0.0019649702414815395, 0.005733155166957225, 0.010996154998153504, 0.015721401064839158, 0.021112428503069026, 0.03410329084299056]])\n",
      "(318, 512, 512)\n",
      "(318, 512, 512)\n",
      "(318, 512, 512)\n",
      "(318, 512, 512)\n",
      "(318, 512, 512)\n",
      "(318, 512, 512)\n"
     ]
    },
    {
     "name": "stderr",
     "output_type": "stream",
     "text": [
      " 85%|████████▌ | 149/175 [2:03:32<20:17, 46.84s/it]"
     ]
    },
    {
     "name": "stdout",
     "output_type": "stream",
     "text": [
      "Prediction(scores=[[0.2903921568627451, 0.39639054875382806, 0.4384285609736511, 0.44232466486975497, 0.4779507837568387, 0.5798812539518032]])\n",
      "(322, 512, 512)\n",
      "(322, 512, 512)\n",
      "(322, 512, 512)\n",
      "(322, 512, 512)\n",
      "(322, 512, 512)\n",
      "(322, 512, 512)\n"
     ]
    },
    {
     "name": "stderr",
     "output_type": "stream",
     "text": [
      " 86%|████████▌ | 150/175 [2:04:21<19:46, 47.47s/it]"
     ]
    },
    {
     "name": "stdout",
     "output_type": "stream",
     "text": [
      "Prediction(scores=[[0.017993675365094892, 0.02968841762205061, 0.05203521397093823, 0.0698362343044828, 0.08181802539471743, 0.12581237757470526]])\n",
      "(397, 512, 512)\n",
      "(397, 512, 512)\n",
      "(397, 512, 512)\n",
      "(397, 512, 512)\n",
      "(397, 512, 512)\n",
      "(397, 512, 512)\n"
     ]
    },
    {
     "name": "stderr",
     "output_type": "stream",
     "text": [
      " 86%|████████▋ | 151/175 [2:05:19<20:14, 50.62s/it]"
     ]
    },
    {
     "name": "stdout",
     "output_type": "stream",
     "text": [
      "Prediction(scores=[[0.0019649702414815395, 0.006792662605387028, 0.01470105163492759, 0.01728884468542021, 0.026096483586135595, 0.03595085191094143]])\n",
      "(352, 512, 512)\n",
      "(352, 512, 512)\n",
      "(352, 512, 512)\n",
      "(352, 512, 512)\n",
      "(352, 512, 512)\n",
      "(352, 512, 512)\n"
     ]
    },
    {
     "name": "stderr",
     "output_type": "stream",
     "text": [
      " 87%|████████▋ | 152/175 [2:06:10<19:26, 50.72s/it]"
     ]
    },
    {
     "name": "stdout",
     "output_type": "stream",
     "text": [
      "Prediction(scores=[[0.0, 0.0015740740740740743, 0.0029513487265095673, 0.004895795305066379, 0.005621468724208106, 0.01440937842731235]])\n",
      "(352, 512, 512)\n",
      "(352, 512, 512)\n",
      "(352, 512, 512)\n",
      "(352, 512, 512)\n",
      "(352, 512, 512)\n",
      "(352, 512, 512)\n"
     ]
    },
    {
     "name": "stderr",
     "output_type": "stream",
     "text": [
      " 87%|████████▋ | 153/175 [2:06:59<18:28, 50.40s/it]"
     ]
    },
    {
     "name": "stdout",
     "output_type": "stream",
     "text": [
      "Prediction(scores=[[0.003950885877035175, 0.01567411799742145, 0.025373366947997893, 0.03400982522104413, 0.04060459092207825, 0.05885240545483521]])\n",
      "(334, 512, 512)\n",
      "(334, 512, 512)\n",
      "(334, 512, 512)\n",
      "(334, 512, 512)\n",
      "(334, 512, 512)\n",
      "(334, 512, 512)\n"
     ]
    },
    {
     "name": "stderr",
     "output_type": "stream",
     "text": [
      " 88%|████████▊ | 154/175 [2:07:51<17:45, 50.72s/it]"
     ]
    },
    {
     "name": "stdout",
     "output_type": "stream",
     "text": [
      "Prediction(scores=[[0.006681809571814292, 0.01567411799742145, 0.027726868532399314, 0.038380454591673496, 0.05063982562434501, 0.07365175619388757]])\n",
      "(330, 512, 512)\n",
      "(330, 512, 512)\n",
      "(330, 512, 512)\n",
      "(330, 512, 512)\n",
      "(330, 512, 512)\n",
      "(330, 512, 512)\n"
     ]
    },
    {
     "name": "stderr",
     "output_type": "stream",
     "text": [
      " 89%|████████▊ | 155/175 [2:08:38<16:33, 49.67s/it]"
     ]
    },
    {
     "name": "stdout",
     "output_type": "stream",
     "text": [
      "Prediction(scores=[[0.0017836132345062697, 0.005733155166957225, 0.010996154998153504, 0.015721401064839158, 0.021112428503069026, 0.03410329084299056]])\n",
      "(288, 512, 512)\n",
      "(288, 512, 512)\n",
      "(288, 512, 512)\n",
      "(288, 512, 512)\n",
      "(288, 512, 512)\n",
      "(288, 512, 512)\n"
     ]
    },
    {
     "name": "stderr",
     "output_type": "stream",
     "text": [
      " 89%|████████▉ | 156/175 [2:09:22<15:12, 48.04s/it]"
     ]
    },
    {
     "name": "stdout",
     "output_type": "stream",
     "text": [
      "Prediction(scores=[[0.010938370464701579, 0.024063714534164626, 0.05203521397093823, 0.0627928598516376, 0.07626246983916188, 0.12394902353743817]])\n",
      "(340, 512, 512)\n",
      "(340, 512, 512)\n",
      "(340, 512, 512)\n",
      "(340, 512, 512)\n",
      "(340, 512, 512)\n",
      "(340, 512, 512)\n"
     ]
    },
    {
     "name": "stderr",
     "output_type": "stream",
     "text": [
      " 90%|████████▉ | 157/175 [2:10:14<14:45, 49.18s/it]"
     ]
    },
    {
     "name": "stdout",
     "output_type": "stream",
     "text": [
      "Prediction(scores=[[0.0017836132345062697, 0.005281162890320399, 0.00904211839128372, 0.01324973354966939, 0.01922933035321872, 0.03295727072916815]])\n",
      "(277, 512, 512)\n",
      "(277, 512, 512)\n",
      "(277, 512, 512)\n",
      "(277, 512, 512)\n",
      "(277, 512, 512)\n",
      "(277, 512, 512)\n"
     ]
    },
    {
     "name": "stderr",
     "output_type": "stream",
     "text": [
      " 90%|█████████ | 158/175 [2:10:57<13:20, 47.11s/it]"
     ]
    },
    {
     "name": "stdout",
     "output_type": "stream",
     "text": [
      "Prediction(scores=[[0.00042105263157894734, 0.0015740740740740743, 0.005017651482467496, 0.008837064568505281, 0.012386409303135709, 0.021661887350000762]])\n",
      "(325, 512, 512)\n",
      "(325, 512, 512)\n",
      "(325, 512, 512)\n",
      "(325, 512, 512)\n",
      "(325, 512, 512)\n",
      "(325, 512, 512)\n"
     ]
    },
    {
     "name": "stderr",
     "output_type": "stream",
     "text": [
      " 91%|█████████ | 159/175 [2:11:44<12:33, 47.12s/it]"
     ]
    },
    {
     "name": "stdout",
     "output_type": "stream",
     "text": [
      "Prediction(scores=[[0.12612858046444383, 0.20156874039938555, 0.20700042081166153, 0.23647769720940454, 0.24838095238095237, 0.30763701541832217]])\n",
      "(345, 512, 512)\n",
      "(345, 512, 512)\n",
      "(345, 512, 512)\n",
      "(345, 512, 512)\n",
      "(345, 512, 512)\n",
      "(345, 512, 512)\n"
     ]
    },
    {
     "name": "stderr",
     "output_type": "stream",
     "text": [
      " 91%|█████████▏| 160/175 [2:12:33<11:55, 47.69s/it]"
     ]
    },
    {
     "name": "stdout",
     "output_type": "stream",
     "text": [
      "Prediction(scores=[[0.0019649702414815395, 0.006792662605387028, 0.01361832965162377, 0.01728884468542021, 0.021685326042547536, 0.03595085191094143]])\n",
      "(339, 512, 512)\n",
      "(339, 512, 512)\n",
      "(339, 512, 512)\n",
      "(339, 512, 512)\n",
      "(339, 512, 512)\n",
      "(339, 512, 512)\n"
     ]
    },
    {
     "name": "stderr",
     "output_type": "stream",
     "text": [
      " 92%|█████████▏| 161/175 [2:13:24<11:22, 48.75s/it]"
     ]
    },
    {
     "name": "stdout",
     "output_type": "stream",
     "text": [
      "Prediction(scores=[[0.010900917281180979, 0.022468311458281577, 0.03623114203667281, 0.04591641456665786, 0.05377927794134665, 0.08312354442405184]])\n",
      "(348, 512, 512)\n",
      "(348, 512, 512)\n",
      "(348, 512, 512)\n",
      "(348, 512, 512)\n",
      "(348, 512, 512)\n",
      "(348, 512, 512)\n"
     ]
    },
    {
     "name": "stderr",
     "output_type": "stream",
     "text": [
      " 93%|█████████▎| 162/175 [2:14:15<10:44, 49.57s/it]"
     ]
    },
    {
     "name": "stdout",
     "output_type": "stream",
     "text": [
      "Prediction(scores=[[0.0011701163019909324, 0.002554438672368111, 0.007834902850118133, 0.011038577845079741, 0.01844215956227956, 0.030460482782289466]])\n",
      "(337, 512, 512)\n",
      "(337, 512, 512)\n",
      "(337, 512, 512)\n",
      "(337, 512, 512)\n",
      "(337, 512, 512)\n",
      "(337, 512, 512)\n"
     ]
    },
    {
     "name": "stderr",
     "output_type": "stream",
     "text": [
      " 93%|█████████▎| 163/175 [2:15:01<09:42, 48.51s/it]"
     ]
    },
    {
     "name": "stdout",
     "output_type": "stream",
     "text": [
      "Prediction(scores=[[0.003950885877035175, 0.01567411799742145, 0.025373366947997893, 0.034918916130135036, 0.0435067212092039, 0.06389626510395803]])\n",
      "(376, 512, 512)\n",
      "(376, 512, 512)\n",
      "(376, 512, 512)\n",
      "(376, 512, 512)\n",
      "(376, 512, 512)\n",
      "(376, 512, 512)\n"
     ]
    },
    {
     "name": "stderr",
     "output_type": "stream",
     "text": [
      " 94%|█████████▎| 164/175 [2:15:59<09:24, 51.30s/it]"
     ]
    },
    {
     "name": "stdout",
     "output_type": "stream",
     "text": [
      "Prediction(scores=[[0.002824125313654893, 0.01567411799742145, 0.025373366947997893, 0.03400982522104413, 0.04060459092207825, 0.05885240545483521]])\n",
      "(397, 512, 512)\n",
      "(397, 512, 512)\n",
      "(397, 512, 512)\n",
      "(397, 512, 512)\n",
      "(397, 512, 512)\n",
      "(397, 512, 512)\n"
     ]
    },
    {
     "name": "stderr",
     "output_type": "stream",
     "text": [
      " 94%|█████████▍| 165/175 [2:16:56<08:50, 53.06s/it]"
     ]
    },
    {
     "name": "stdout",
     "output_type": "stream",
     "text": [
      "Prediction(scores=[[0.0011701163019909324, 0.002554438672368111, 0.00756387233801675, 0.010894609211085827, 0.01618770872695615, 0.029672837363096616]])\n",
      "(366, 512, 512)\n",
      "(366, 512, 512)\n",
      "(366, 512, 512)\n",
      "(366, 512, 512)\n",
      "(366, 512, 512)\n",
      "(366, 512, 512)\n"
     ]
    },
    {
     "name": "stderr",
     "output_type": "stream",
     "text": [
      " 95%|█████████▍| 166/175 [2:17:50<07:59, 53.23s/it]"
     ]
    },
    {
     "name": "stdout",
     "output_type": "stream",
     "text": [
      "Prediction(scores=[[0.02812232605712587, 0.0618489318388726, 0.08783934598430769, 0.10190461995002202, 0.11030814191960622, 0.15475046812057647]])\n",
      "(349, 512, 512)\n",
      "(349, 512, 512)\n",
      "(349, 512, 512)\n",
      "(349, 512, 512)\n",
      "(349, 512, 512)\n",
      "(349, 512, 512)\n"
     ]
    },
    {
     "name": "stderr",
     "output_type": "stream",
     "text": [
      " 95%|█████████▌| 167/175 [2:18:38<06:53, 51.63s/it]"
     ]
    },
    {
     "name": "stdout",
     "output_type": "stream",
     "text": [
      "Prediction(scores=[[0.0011701163019909324, 0.002554438672368111, 0.007834902850118133, 0.011038577845079741, 0.01844215956227956, 0.030889601556235824]])\n",
      "(343, 512, 512)\n",
      "(343, 512, 512)\n",
      "(343, 512, 512)\n",
      "(343, 512, 512)\n",
      "(343, 512, 512)\n",
      "(343, 512, 512)\n"
     ]
    },
    {
     "name": "stderr",
     "output_type": "stream",
     "text": [
      " 96%|█████████▌| 168/175 [2:19:30<06:02, 51.76s/it]"
     ]
    },
    {
     "name": "stdout",
     "output_type": "stream",
     "text": [
      "Prediction(scores=[[0.0011701163019909324, 0.002554438672368111, 0.007834902850118133, 0.012796834998944757, 0.01922933035321872, 0.03295727072916815]])\n",
      "(339, 512, 512)\n",
      "(339, 512, 512)\n",
      "(339, 512, 512)\n",
      "(339, 512, 512)\n",
      "(339, 512, 512)\n",
      "(339, 512, 512)\n"
     ]
    },
    {
     "name": "stderr",
     "output_type": "stream",
     "text": [
      " 97%|█████████▋| 169/175 [2:20:28<05:21, 53.65s/it]"
     ]
    },
    {
     "name": "stdout",
     "output_type": "stream",
     "text": [
      "Prediction(scores=[[0.003950885877035175, 0.01567411799742145, 0.025373366947997893, 0.034918916130135036, 0.0435067212092039, 0.06389626510395803]])\n",
      "(304, 512, 512)\n",
      "(304, 512, 512)\n",
      "(304, 512, 512)\n",
      "(304, 512, 512)\n",
      "(304, 512, 512)\n",
      "(304, 512, 512)\n"
     ]
    },
    {
     "name": "stderr",
     "output_type": "stream",
     "text": [
      " 97%|█████████▋| 170/175 [2:21:14<04:16, 51.36s/it]"
     ]
    },
    {
     "name": "stdout",
     "output_type": "stream",
     "text": [
      "Prediction(scores=[[0.002824125313654893, 0.011458655748540176, 0.025373366947997893, 0.03400982522104413, 0.04010126005605308, 0.05885240545483521]])\n",
      "(324, 512, 512)\n",
      "(324, 512, 512)\n",
      "(324, 512, 512)\n",
      "(324, 512, 512)\n",
      "(324, 512, 512)\n",
      "(324, 512, 512)\n"
     ]
    },
    {
     "name": "stderr",
     "output_type": "stream",
     "text": [
      " 98%|█████████▊| 171/175 [2:22:00<03:18, 49.72s/it]"
     ]
    },
    {
     "name": "stdout",
     "output_type": "stream",
     "text": [
      "Prediction(scores=[[0.0, 0.0, 0.0016064257028112448, 0.0016260162601626014, 0.004117709325711866, 0.007510322508648588]])\n",
      "(397, 512, 512)\n",
      "(397, 512, 512)\n",
      "(397, 512, 512)\n",
      "(397, 512, 512)\n",
      "(397, 512, 512)\n",
      "(397, 512, 512)\n"
     ]
    },
    {
     "name": "stderr",
     "output_type": "stream",
     "text": [
      " 98%|█████████▊| 172/175 [2:22:58<02:36, 52.32s/it]"
     ]
    },
    {
     "name": "stdout",
     "output_type": "stream",
     "text": [
      "Prediction(scores=[[0.00042105263157894734, 0.0020480077233631737, 0.005017651482467496, 0.008837064568505281, 0.014169944457552302, 0.022664209804468434]])\n",
      "(381, 512, 512)\n",
      "(381, 512, 512)\n",
      "(381, 512, 512)\n",
      "(381, 512, 512)\n",
      "(381, 512, 512)\n",
      "(381, 512, 512)\n"
     ]
    },
    {
     "name": "stderr",
     "output_type": "stream",
     "text": [
      " 99%|█████████▉| 173/175 [2:23:56<01:47, 53.81s/it]"
     ]
    },
    {
     "name": "stdout",
     "output_type": "stream",
     "text": [
      "Prediction(scores=[[0.0011701163019909324, 0.002554438672368111, 0.007834902850118133, 0.012796834998944757, 0.01922933035321872, 0.03295727072916815]])\n",
      "(367, 512, 512)\n",
      "(367, 512, 512)\n",
      "(367, 512, 512)\n",
      "(367, 512, 512)\n",
      "(367, 512, 512)\n",
      "(367, 512, 512)\n"
     ]
    },
    {
     "name": "stderr",
     "output_type": "stream",
     "text": [
      " 99%|█████████▉| 174/175 [2:24:48<00:53, 53.36s/it]"
     ]
    },
    {
     "name": "stdout",
     "output_type": "stream",
     "text": [
      "Prediction(scores=[[0.0, 0.0015740740740740743, 0.004032429807590649, 0.006847014817261502, 0.010381396771807386, 0.019111393468237536]])\n",
      "(334, 512, 512)\n",
      "(334, 512, 512)\n",
      "(334, 512, 512)\n",
      "(334, 512, 512)\n",
      "(334, 512, 512)\n",
      "(334, 512, 512)\n"
     ]
    },
    {
     "name": "stderr",
     "output_type": "stream",
     "text": [
      "100%|██████████| 175/175 [2:25:39<00:00, 49.94s/it]"
     ]
    },
    {
     "name": "stdout",
     "output_type": "stream",
     "text": [
      "Prediction(scores=[[0.05741631638052795, 0.11387587948994367, 0.15048689721346972, 0.17213596051472665, 0.19081123978149148, 0.24696671593223316]])\n"
     ]
    },
    {
     "name": "stderr",
     "output_type": "stream",
     "text": [
      "\n"
     ]
    }
   ],
   "source": [
    "scans = get_subfolder_paths_from_csv(csvfile,path_to_mha)[424:]\n",
    "print(scans)\n",
    "for scan in tqdm(scans):\n",
    "    try:\n",
    "        serie = Serie([scan], mha3d=True)\n",
    "        scores = model.predict([serie])\n",
    "        data_dict = collectscores(scan, scores[0])\n",
    "        save_data_as_csv(data_dict, output)\n",
    "        print(scores)\n",
    "    except Exception as e:\n",
    "        # log_error(str(e), subfolder)\n",
    "        print(e)\n",
    "\n",
    "# # end_time_model = time.time()\n",
    "# # print(f\"Time taken for my_function: {end_time_model - start_time_model} seconds\")"
   ]
  }
 ],
 "metadata": {
  "kernelspec": {
   "display_name": "Python 3",
   "language": "python",
   "name": "python3"
  },
  "language_info": {
   "codemirror_mode": {
    "name": "ipython",
    "version": 3
   },
   "file_extension": ".py",
   "mimetype": "text/x-python",
   "name": "python",
   "nbconvert_exporter": "python",
   "pygments_lexer": "ipython3",
   "version": "3.9.13"
  }
 },
 "nbformat": 4,
 "nbformat_minor": 2
}
